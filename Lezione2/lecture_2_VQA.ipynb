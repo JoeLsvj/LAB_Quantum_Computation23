{
 "cells": [
  {
   "cell_type": "markdown",
   "id": "125bd72e",
   "metadata": {
    "slideshow": {
     "slide_type": "slide"
    }
   },
   "source": [
    "# Lecture 2 on Variational Quantum Algorithm\n",
    "<br>\n",
    "<br>\n",
    "\n",
    "michele.grossi@cern.ch"
   ]
  },
  {
   "cell_type": "code",
   "execution_count": null,
   "id": "d7430b7c",
   "metadata": {
    "slideshow": {
     "slide_type": "subslide"
    }
   },
   "outputs": [],
   "source": [
    "import qiskit.tools.jupyter\n",
    "%qiskit_version_table\n",
    "%qiskit_copyright"
   ]
  },
  {
   "cell_type": "markdown",
   "id": "9e2d0280",
   "metadata": {},
   "source": [
    "## Variational Quantum Algorithms\n",
    "\n",
    "Variational Quantum Algorithms (VQA) are hybrid algorithm that use a classical optimizer to train a parameterized quantum circuit to approximate solutions for a given problem. You will find this family of architectures for a lot of application in different fields like: Chemistry, Physics, Finance, Machine Learning and more.\n",
    "\n",
    "VQA typically need fewer gates and qubits. In turn, they are more resistant to noise and are well suited to handle near-term quantum computer constraints."
   ]
  },
  {
   "cell_type": "markdown",
   "id": "8cdacfd6",
   "metadata": {},
   "source": [
    "VQA's are typically iterative. Each iteration involves both quantum and classical processing. \n",
    "\n",
    "Output (a measurement) from one iteration is sent to the classical optimizer which generates input (a parameter) for the next iteration:\n",
    "\n",
    "<div>\n",
    "<img src=\"images/qva_loop.png\" width=\"600\" align=\"left\"/>\n",
    "</div>"
   ]
  },
  {
   "cell_type": "markdown",
   "id": "556d6a1b",
   "metadata": {},
   "source": [
    "## VQE - Application to Physics to study static properties\n",
    "\n",
    "The Variational Quantum Eigensolver (VQE) is a central algorithm in many applications, e.g. quantum chemistry or optimization.\n",
    "This tutorial shows you how to run the VQE. We'll start off by defining the algorithm settings, such as the Hamiltonian and ansatz, and then run a VQE both locally, on your machine, and remotely, using the IBM platform.\n",
    "\n",
    "**Note:** You can find tutorials on solving more comprehensive problems, such as finding the ground state of the lithium hydride molecule, using the VQE within [the tutorials of Qiskit Nature](https://github.com/Qiskit/qiskit-nature/tree/main/docs/tutorials)."
   ]
  },
  {
   "cell_type": "markdown",
   "id": "262c1f3f",
   "metadata": {},
   "source": [
    "## System Hamiltonian"
   ]
  },
  {
   "cell_type": "markdown",
   "id": "10009835",
   "metadata": {},
   "source": [
    "Let's start by defining the operator of which we want to determine the ground state. Here we'll chose a simple diagonal Hamiltonian $\\hat H$ acting with Pauli-Z operators on the first two qubits\n",
    "\n",
    "$$\n",
    "\\hat H = \\hat Z_0 \\otimes \\hat Z_1.\n",
    "$$\n",
    "\n",
    "We can construct this Hamiltonian with Qiskit's `opflow` module"
   ]
  },
  {
   "cell_type": "code",
   "execution_count": null,
   "id": "f895895f",
   "metadata": {},
   "outputs": [],
   "source": [
    "from qiskit.opflow import Z, I\n",
    "\n",
    "num_qubits = 4\n",
    "hamiltonian = (Z ^ Z) ^ (I ^ (num_qubits - 2))"
   ]
  },
  {
   "cell_type": "code",
   "execution_count": null,
   "id": "2a1c7234",
   "metadata": {},
   "outputs": [],
   "source": [
    "hamiltonian"
   ]
  },
  {
   "cell_type": "markdown",
   "id": "1311f430",
   "metadata": {},
   "source": [
    "This Hamiltonian has a ground state energy of -1."
   ]
  },
  {
   "cell_type": "code",
   "execution_count": null,
   "id": "1ace3712",
   "metadata": {},
   "outputs": [],
   "source": [
    "target_energy = -1"
   ]
  },
  {
   "cell_type": "markdown",
   "id": "d2e86195",
   "metadata": {},
   "source": [
    "## Parameterized Ansatz Circuit"
   ]
  },
  {
   "cell_type": "markdown",
   "id": "bd1439dc",
   "metadata": {},
   "source": [
    "Next, we choose a parameterized quantum circuit $\\hat U(\\theta)$ to prepare the ansatz wavefunction\n",
    "\n",
    "$$\n",
    "|\\psi(\\theta)\\rangle = \\hat U(\\theta)|0\\rangle.\n",
    "$$\n",
    "\n",
    "We'll use the `EfficientSU2` circuit from Qiskit's circuit library, which is a hardware efficient, heuristic ansatz with alternating rotation and entanglement layers."
   ]
  },
  {
   "cell_type": "code",
   "execution_count": null,
   "id": "deb866c1",
   "metadata": {},
   "outputs": [],
   "source": [
    "from qiskit.circuit.library import EfficientSU2\n",
    "\n",
    "# the rotation gates are chosen randomly, so we set a seed for reproducibility\n",
    "ansatz = EfficientSU2(num_qubits, reps=1, entanglement='linear', insert_barriers=True) \n",
    "ansatz.decompose().draw('mpl', style='iqx')"
   ]
  },
  {
   "cell_type": "markdown",
   "id": "de790add",
   "metadata": {},
   "source": [
    "## Solve with the VQE"
   ]
  },
  {
   "cell_type": "markdown",
   "id": "3e594ca0",
   "metadata": {},
   "source": [
    "Now that we have the problem and ansatz specified we can use the Variational Quantum Eigensolver (VQE) to solve for the minimal eigenvalue of our Hamiltonian.\n",
    "\n",
    "The VQE requires a classical optimization routine, along with an initial point, to calculate the parameter updates."
   ]
  },
  {
   "cell_type": "code",
   "execution_count": null,
   "id": "6d0f7a9b",
   "metadata": {},
   "outputs": [],
   "source": [
    "import numpy as np\n",
    "from qiskit.algorithms.optimizers import SPSA\n",
    "\n",
    "optimizer = SPSA(maxiter=50)\n",
    "\n",
    "np.random.seed(10)  # seed for reproducibility\n",
    "initial_point = np.random.random(ansatz.num_parameters)"
   ]
  },
  {
   "cell_type": "markdown",
   "id": "72696a3f",
   "metadata": {},
   "source": [
    "To access intermediate information we can pass a callback into the VQE. The callback is given the current number of function evaluations, the current parameters, function values and standard deviation in the expectation evaluation. "
   ]
  },
  {
   "cell_type": "code",
   "execution_count": null,
   "id": "6ee7f4e2",
   "metadata": {},
   "outputs": [],
   "source": [
    "intermediate_info = {\n",
    "    'nfev': [],\n",
    "    'parameters': [],\n",
    "    'energy': [],\n",
    "    'stddev': []\n",
    "}\n",
    "\n",
    "def callback(nfev, parameters, energy, stddev):\n",
    "    intermediate_info['nfev'].append(nfev)\n",
    "    intermediate_info['parameters'].append(parameters)\n",
    "    intermediate_info['energy'].append(energy)\n",
    "    intermediate_info['stddev'].append(stddev)"
   ]
  },
  {
   "cell_type": "markdown",
   "id": "d805e065",
   "metadata": {},
   "source": [
    "### Local VQE\n",
    "\n",
    "Let's first simulate this system locally using Qiskit's `VQE` class."
   ]
  },
  {
   "cell_type": "code",
   "execution_count": null,
   "id": "857d9236",
   "metadata": {},
   "outputs": [],
   "source": [
    "from qiskit.providers.basicaer import QasmSimulatorPy  # local simulator\n",
    "from qiskit.algorithms import VQE\n",
    "\n",
    "local_vqe = VQE(ansatz=ansatz,\n",
    "                optimizer=optimizer,\n",
    "                initial_point=initial_point,\n",
    "                quantum_instance=QasmSimulatorPy(),\n",
    "                callback=callback)"
   ]
  },
  {
   "cell_type": "code",
   "execution_count": null,
   "id": "cc3ffbb9",
   "metadata": {},
   "outputs": [],
   "source": [
    "local_result = local_vqe.compute_minimum_eigenvalue(hamiltonian)"
   ]
  },
  {
   "cell_type": "code",
   "execution_count": null,
   "id": "faebcd95",
   "metadata": {},
   "outputs": [],
   "source": [
    "print('Eigenvalue:', local_result.eigenvalue)\n",
    "print('Target:', target_energy)"
   ]
  },
  {
   "cell_type": "markdown",
   "id": "6ec1b736",
   "metadata": {},
   "source": [
    "With the information from the callback, we can for instance compute the average of the estimation errors in the expectation evaluations. For an exact (statevector) simulation this would be 0, but for a shot-based readout as we have on real hardware, this will be a small finite error."
   ]
  },
  {
   "cell_type": "code",
   "execution_count": null,
   "id": "42cc8f2e",
   "metadata": {},
   "outputs": [],
   "source": [
    "print('Mean error:', np.mean(intermediate_info['stddev']))"
   ]
  },
  {
   "cell_type": "code",
   "execution_count": null,
   "id": "0b3b9c30",
   "metadata": {},
   "outputs": [],
   "source": [
    "intermediate_info['parameters'][-1]"
   ]
  },
  {
   "attachments": {},
   "cell_type": "markdown",
   "id": "45b72f6c",
   "metadata": {},
   "source": [
    "## Quantum Ising Chain\n",
    "The system under consideration is the Quantum Ising model with traverse field and fixed parameters and we impose periodic boundary conditions. In the Hamiltonian, $$J>0$$ parametrizes the antiferromagnetic coupling and sets the energy scale, $$h$$ parametrizes the transverse magnetic field.\n",
    "See https://www.mdpi.com/2073-8994/14/5/996 for additional details.\n",
    "\n",
    "More specifically, the chain size is fixed to N = 4 (5) and the Hamiltonian H is:\n",
    "\n",
    "\n",
    "$$\n",
    "\\mathcal{H} = -  J \\sum_{i,j}^N \\hat{s}_{x}^{(i)}\\hat{s}_{x}^{(i+1)} + h \\sum_{i}^N \\hat{s}_{z}^{(i)}\n",
    "$$\n",
    "\n",
    "for $h = J = 1$, and where $\\hat{s}_{x}$ and $\\hat{s}_{z}$ are the respective Pauli operators applied to the i-th qubit."
   ]
  },
  {
   "cell_type": "code",
   "execution_count": null,
   "id": "be46d178-c29d-4934-80da-665a52177c25",
   "metadata": {},
   "outputs": [],
   "source": [
    "from qiskit_ibm_provider import IBMProvider"
   ]
  },
  {
   "cell_type": "code",
   "execution_count": null,
   "id": "2065da3b",
   "metadata": {},
   "outputs": [],
   "source": [
    "provider = IBMProvider()\n",
    "provider"
   ]
  },
  {
   "cell_type": "code",
   "execution_count": null,
   "id": "68335d5b",
   "metadata": {},
   "outputs": [],
   "source": [
    "provider.backends()"
   ]
  },
  {
   "cell_type": "markdown",
   "id": "9161b5ed",
   "metadata": {},
   "source": [
    "### Classical energy levels calculation\n",
    "The Ising model is a mathematical model of ferromagnetism in statistical mechanics.\n",
    "The model consists of discrete variables that represent magnetic dipole moments of atomic spins that can be in one of two states ($+1$ or $−1$).\n",
    "The spins are arranged in a graph, usually a lattice (where the local structure repeats periodically in all directions), allowing each spin to interact with its neighbors.\n",
    "Neighboring spins that agree have a lower energy than those that disagree; the system tends to the lowest energy but heat disturbs this tendency, thus creating the possibility of different structural phases. \n",
    "\n",
    "\n",
    "Consider a set $\\Lambda$ of lattice sites, each with a set of adjacent sites (e.g. a graph) forming a $d$-dimensional lattice.For each lattice site $k \\in \\Lambda$ there is a discrete variable $\\sigma_k$ such that $\\sigma_k \\in \\{+1,-1\\}$, representing the site's spin. A spin configuration,$(\\sigma_k)_{k \\in K} \\in \\{-1,+1\\}^K$ is an assignment of spin value to each lattice site.\n",
    "\n",
    "For any two adjacent sites $i,j \\in \\Lambda$ there is an interaction $J_{ij}$. Also a site $j \\in \\Lambda$ has an external magnetic field hj interacting with it. The energy of a configuration $\\sigma$ is given by the Hamiltonian function\n",
    "\n",
    "\\begin{equation}\n",
    "H(\\sigma )=\\sum _{\\langle i~j\\rangle }J_{ij}\\sigma _{i}\\sigma _{j}+\\mu \\sum _{j}h_{j}\\sigma _{j}\n",
    "\\end{equation}\n",
    "\n",
    "where the first sum is over pairs of adjacent spins (every pair is counted once). The notation $\\langle ij \\rangle$ indicates that sites $i$ and $j$ are nearest neighbors. The magnetic moment is given by $\\mu$.\n",
    "Ising models can be classified according to the sign of the interaction: if, for a pair i, j\n",
    "\n",
    "- ${J_{ij}<0}$, the interaction is called ferromagnetic,\n",
    "- ${J_{ij}>0}$, the interaction is called antiferromagnetic,\n",
    "- ${J_{ij}=0}$, the spins are noninteracting.\n",
    "\n",
    "Now we restrict our analisys in the following way\n",
    "\n",
    "- Quantum case: $\\sigma_i$ are Pauli matrices, precisely $\\sigma^z _i$ in the first term and $\\sigma^x _i$ in the second term;\n",
    "- Ferromagnetic Model:${J_{ij}<0}$;\n",
    "- One dimensional chain: $\\Lambda$ is 1d lattice;\n",
    "- Same interaction: $J_{i,j}=J$;\n",
    "- Same magnetic interaction: $h_j=h$.\n",
    "\n",
    "The hamiltonian is given by\n",
    "\\begin{equation}\n",
    "    H=J\\sum_{i }\\sigma^x_i\\sigma^x_{i+1}+b\\sum_j\\sigma^z_j\n",
    "\\end{equation}\n",
    "where $b$ now measures the effect of a external magnetic field on the lattice.\n",
    "\n",
    "\n",
    "\n"
   ]
  },
  {
   "cell_type": "code",
   "execution_count": null,
   "id": "f78ebf4e",
   "metadata": {},
   "outputs": [],
   "source": [
    "from qiskit.algorithms.minimum_eigensolvers import NumPyMinimumEigensolver\n",
    "\n",
    "sol = NumPyMinimumEigensolver().compute_minimum_eigenvalue(H, aux_operators=[M])\n"
   ]
  },
  {
   "cell_type": "code",
   "execution_count": null,
   "id": "fc1c9a14-a5c1-414c-8a1f-906c50b54a2c",
   "metadata": {},
   "outputs": [],
   "source": [
    "sol.eigenvalue"
   ]
  },
  {
   "cell_type": "markdown",
   "id": "27588abc",
   "metadata": {},
   "source": [
    "### Exercise: Quantum ground state calculation\n",
    "\n",
    "Now we want to calculate the ground state using quantum circuits, we are going to implement VQE algorithms based on our hamiltonian and noise models.  \n",
    "We split the computation in three different parts:\n",
    "- Noiseless;\n",
    "\n",
    "- Noisy, in this case we consider two different model:\n",
    "    - Custom noise;\n",
    "    - Hardware noise;\n",
    "    \n",
    "- Mitigated."
   ]
  },
  {
   "cell_type": "code",
   "execution_count": null,
   "id": "f6f7e146-cce8-49cf-b31c-63fe2a80b626",
   "metadata": {},
   "outputs": [],
   "source": [
    "import numpy as np \n",
    "from qiskit_ibm_runtime import QiskitRuntimeService, Options, Session, Estimator\n",
    "from qiskit.circuit.library import EfficientSU2, RealAmplitudes\n",
    "import qiskit_algorithms\n",
    "from qiskit.algorithms.optimizers import SPSA\n",
    "from qiskit.algorithms.minimum_eigensolvers import VQE\n",
    "from qiskit.quantum_info import Pauli, SparsePauliOp"
   ]
  },
  {
   "cell_type": "code",
   "execution_count": null,
   "id": "ed722bd5-c00a-4503-90f3-4cd6c8b91e64",
   "metadata": {},
   "outputs": [],
   "source": [
    "#hamiltonian generation (for N=5,6)\n",
    "# number of qubits = i+1+(N-i-1)=N qubits\n",
    "# see https://qiskit.org/documentation/migration_guides/opflow_migration.html#qubit-paulis\n",
    "\n",
    "def ham_generator(N, h, J):\n",
    "    l = [] #we'll add the terms (term,coef)\n",
    "    # field term\n",
    "    for i in range(N):\n",
    "        t = \"I\"*i + \"Z\" + \"I\"*(N-1-i)\n",
    "        l.append( (t,h) )\n",
    "    # interaction term\n",
    "    for k in range(N - 1):\n",
    "        t = \"I\"*k + \"XX\" + \"I\"*(N-2-k)\n",
    "        l.append( (t,J) )\n",
    "    # PBC\n",
    "    t = \"X\" + \"I\"*(N-2) + \"X\"\n",
    "    l.append( (t,J) )\n",
    "    H = SparsePauliOp.from_list(l)\n",
    "    return H"
   ]
  },
  {
   "cell_type": "code",
   "execution_count": null,
   "id": "8d35845b-0e5a-4c6f-9e87-9ca0a94cf3a2",
   "metadata": {},
   "outputs": [],
   "source": [
    "# Let's define a typical observable: magnetization\n",
    "def magnetization(N):\n",
    "    l=[]\n",
    "    coef=1/N\n",
    "    # field term\n",
    "    for i in range(N):\n",
    "        t = \"I\"*i + \"X\" + \"I\"*(N-1-i)\n",
    "        l.append( (t,coef) )\n",
    "    M = SparsePauliOp.from_list(l)\n",
    "    return M"
   ]
  },
  {
   "cell_type": "code",
   "execution_count": null,
   "id": "fde29dc3-f4ab-4e6c-a866-65286f7f75dd",
   "metadata": {},
   "outputs": [],
   "source": [
    "nqubits=5 #6\n",
    "h = 0.2 #or -0.2 or 0\n",
    "J=1\n",
    "\n",
    "\n",
    "H = ham_generator(nqubits, h, J)\n",
    "M = magnetization(nqubits)\n",
    "H, M"
   ]
  },
  {
   "cell_type": "code",
   "execution_count": null,
   "id": "221511d1-be8a-4d1b-bd3d-0e8b687559a1",
   "metadata": {},
   "outputs": [],
   "source": [
    "##Let's instantiate the service and the cloud simulator\n",
    "service = QiskitRuntimeService(channel='ibm_quantum')\n",
    "sim = \"ibmq_qasm_simulator\""
   ]
  },
  {
   "cell_type": "code",
   "execution_count": null,
   "id": "fede4ff5-7952-4f33-86be-15378f5ba794",
   "metadata": {},
   "outputs": [],
   "source": [
    "## Let's define the optimize\n",
    "optimizer = SPSA(maxiter=10)"
   ]
  },
  {
   "cell_type": "code",
   "execution_count": null,
   "id": "07f95998-2b1d-47b8-8b46-43757293199d",
   "metadata": {},
   "outputs": [],
   "source": [
    "## Let's define the ansatz function - the initial weight/parameters\n",
    "ansatz = RealAmplitudes(num_qubits=nqubits, reps=3)\n",
    "#ansatz = EfficientSU2(nqubits, reps=3, entanglement='linear', insert_barriers=False)\n",
    "\n",
    "np.random.seed(6)\n",
    "initial_point = np.random.random(ansatz.num_parameters)"
   ]
  },
  {
   "cell_type": "code",
   "execution_count": null,
   "id": "f799e67d-2f50-429c-9be4-ca469da31f30",
   "metadata": {},
   "outputs": [],
   "source": [
    "ansatz.decompose().draw('mpl', style='iqx')"
   ]
  },
  {
   "cell_type": "code",
   "execution_count": null,
   "id": "95bf0665-b2c6-4fc1-add0-835aa6a77f38",
   "metadata": {},
   "outputs": [],
   "source": [
    "# Create an object to store intermediate results\n",
    "from dataclasses import dataclass\n",
    "\n",
    "@dataclass\n",
    "class VQELog:\n",
    "    values: list\n",
    "    parameters: list\n",
    "\n",
    "    def update(self, count, parameters, mean, _metadata):\n",
    "        self.values.append(mean)\n",
    "        self.parameters.append(parameters)\n",
    "        print(f\"Running circuit {count} of ~400\", end=\"\\r\", flush=True)\n",
    "\n",
    "log = VQELog([], [])"
   ]
  },
  {
   "cell_type": "code",
   "execution_count": null,
   "id": "6692cca1-e353-4929-8a32-8c8d4f6e3a24",
   "metadata": {},
   "outputs": [],
   "source": [
    "# Set options to include the noise model\n",
    "options = Options()\n",
    "\n",
    "# Set number of shots, optimization_level and resilience_level\n",
    "options.execution.shots = 1000\n",
    "options.optimization_level = 3\n",
    "options.resilience_level = 0"
   ]
  },
  {
   "cell_type": "code",
   "execution_count": null,
   "id": "fd9bc2ff-7233-487f-ae57-a0965ea4eb65",
   "metadata": {},
   "outputs": [],
   "source": [
    "##NOISELESS CASE RUN\n",
    "\n",
    "with Session(service=service, backend=sim) as session:\n",
    "    estimator=Estimator(session=session, options=options)\n",
    "    vqe = VQE(estimator=estimator,\n",
    "              ansatz=ansatz, \n",
    "              optimizer=optimizer, \n",
    "              callback=log.update, \n",
    "              initial_point=initial_point)\n",
    "    M = magnetization(nqubits)\n",
    "    H = ham_generator(nqubits, h, J)\n",
    "    result = vqe.compute_minimum_eigenvalue(H, aux_operators=[M])\n",
    "\n",
    "    print(\"Experiment complete.\".ljust(30))\n",
    "    print(f\"GS: {result.optimal_value}\")\n",
    "    print(f\"Magn:{result.aux_operators_evaluated}\")\n",
    "    session.close()"
   ]
  },
  {
   "cell_type": "code",
   "execution_count": null,
   "id": "a6ac6284-98eb-481f-bb0b-d9767ab9d33e",
   "metadata": {},
   "outputs": [],
   "source": [
    "result.eigenvalue"
   ]
  },
  {
   "cell_type": "code",
   "execution_count": null,
   "id": "7b8d2f3c-53a5-45f6-9148-c452d1e777c1",
   "metadata": {},
   "outputs": [],
   "source": [
    "## NOISY CASE\n",
    "\n",
    "from qiskit.providers.fake_provider import FakeAuckland\n",
    "from qiskit_aer.noise import NoiseModel\n",
    "# Make a noise model\n",
    "\n",
    "fake_backend = FakeAuckland()\n",
    "\n",
    "noise_model = NoiseModel.from_backend(backend)\n",
    "basis_gates=backend.configuration().basis_gates\n",
    "coupling_map=backend.configuration().coupling_map\n",
    "\n",
    "\n",
    "options.simulator = {\n",
    "    \"noise_model\": noise_model,\n",
    "    \"basis_gates\":basis_gates,\n",
    "    \"coupling_map\": coupling_map,\n",
    "    \"seed_simulator\": 42\n",
    "}"
   ]
  },
  {
   "cell_type": "code",
   "execution_count": null,
   "id": "02ef6647-05e4-4bc7-ac22-c89ab155c0a3",
   "metadata": {},
   "outputs": [],
   "source": [
    "##noisy case\n",
    "with Session(service=service, backend=sim) as session:\n",
    "    estimator=Estimator(session=session, options=options)\n",
    "    vqe = VQE(estimator=estimator,\n",
    "              ansatz=ansatz, \n",
    "              optimizer=optimizer, \n",
    "              callback=log.update, \n",
    "              initial_point=initial_point)\n",
    "    M = magnetization(nqubits)\n",
    "    H = ham_generator(nqubits, h, J)\n",
    "    result = vqe.compute_minimum_eigenvalue(H, aux_operators=[M])\n",
    "\n",
    "    print(\"Experiment complete.\".ljust(30))\n",
    "    print(f\"GS: {result.optimal_value}\")\n",
    "    print(f\"Magn:{result.aux_operators_evaluated}\")\n",
    "    session.close()"
   ]
  },
  {
   "cell_type": "code",
   "execution_count": null,
   "id": "9a43959a",
   "metadata": {},
   "outputs": [],
   "source": [
    "import matplotlib.pyplot as plt\n",
    "\n",
    "plt.rcParams[\"font.size\"] = 14\n",
    "\n",
    "# Plot energy and reference value\n",
    "plt.figure(figsize=(12, 6))\n",
    "plt.plot(log.values, label=\"Estimator VQE\")\n",
    "plt.axhline(y=sol.eigenvalue, color=\"tab:red\", ls=\"--\", label=\"Target\")\n",
    "\n",
    "plt.legend(loc=\"best\")\n",
    "plt.xlabel(\"Iteration\")\n",
    "plt.ylabel(\"Energy [H]\")\n",
    "plt.title(\"VQE energy\")\n",
    "plt.show()"
   ]
  }
 ],
 "metadata": {
  "celltoolbar": "Slideshow",
  "kernelspec": {
   "display_name": "Python 3 (ipykernel)",
   "language": "python",
   "name": "python3"
  },
  "language_info": {
   "codemirror_mode": {
    "name": "ipython",
    "version": 3
   },
   "file_extension": ".py",
   "mimetype": "text/x-python",
   "name": "python",
   "nbconvert_exporter": "python",
   "pygments_lexer": "ipython3",
   "version": "3.9.18"
  }
 },
 "nbformat": 4,
 "nbformat_minor": 5
}
