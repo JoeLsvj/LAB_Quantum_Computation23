{
 "cells": [
  {
   "cell_type": "markdown",
   "id": "125bd72e",
   "metadata": {
    "slideshow": {
     "slide_type": "slide"
    }
   },
   "source": [
    "# Lecture 2 on Variational Quantum Algorithm\n",
    "<br>\n",
    "<br>\n",
    "\n",
    "michele.grossi@cern.ch"
   ]
  },
  {
   "cell_type": "code",
   "execution_count": 1,
   "id": "d7430b7c",
   "metadata": {
    "slideshow": {
     "slide_type": "subslide"
    }
   },
   "outputs": [
    {
     "data": {
      "text/html": [
       "<h3>Version Information</h3><table><tr><th>Software</th><th>Version</th></tr><tr><td><code>qiskit</code></td><td>0.44.3</td></tr><tr><td><code>qiskit-terra</code></td><td>0.25.3</td></tr><tr><th colspan='2'>System information</th></tr><tr><td>Python version</td><td>3.9.18</td></tr><tr><td>Python compiler</td><td>Clang 15.0.7 </td></tr><tr><td>Python build</td><td>main, Aug 30 2023 03:53:08</td></tr><tr><td>OS</td><td>Darwin</td></tr><tr><td>CPUs</td><td>10</td></tr><tr><td>Memory (Gb)</td><td>32.0</td></tr><tr><td colspan='2'>Fri Dec 01 12:10:47 2023 CET</td></tr></table>"
      ],
      "text/plain": [
       "<IPython.core.display.HTML object>"
      ]
     },
     "metadata": {},
     "output_type": "display_data"
    },
    {
     "data": {
      "text/html": [
       "<div style='width: 100%; background-color:#d5d9e0;padding-left: 10px; padding-bottom: 10px; padding-right: 10px; padding-top: 5px'><h3>This code is a part of Qiskit</h3><p>&copy; Copyright IBM 2017, 2023.</p><p>This code is licensed under the Apache License, Version 2.0. You may<br>obtain a copy of this license in the LICENSE.txt file in the root directory<br> of this source tree or at http://www.apache.org/licenses/LICENSE-2.0.<p>Any modifications or derivative works of this code must retain this<br>copyright notice, and modified files need to carry a notice indicating<br>that they have been altered from the originals.</p></div>"
      ],
      "text/plain": [
       "<IPython.core.display.HTML object>"
      ]
     },
     "metadata": {},
     "output_type": "display_data"
    }
   ],
   "source": [
    "import qiskit.tools.jupyter\n",
    "%qiskit_version_table\n",
    "%qiskit_copyright"
   ]
  },
  {
   "cell_type": "markdown",
   "id": "9e2d0280",
   "metadata": {},
   "source": [
    "## Variational Quantum Algorithms\n",
    "\n",
    "Variational Quantum Algorithms (VQA) are hybrid algorithm that use a classical optimizer to train a parameterized quantum circuit to approximate solutions for a given problem. You will find this family of architectures for a lot of application in different fields like: Chemistry, Physics, Finance, Machine Learning and more.\n",
    "\n",
    "VQA typically need fewer gates and qubits. In turn, they are more resistant to noise and are well suited to handle near-term quantum computer constraints."
   ]
  },
  {
   "cell_type": "markdown",
   "id": "8cdacfd6",
   "metadata": {},
   "source": [
    "VQA's are typically iterative. Each iteration involves both quantum and classical processing. \n",
    "\n",
    "Output (a measurement) from one iteration is sent to the classical optimizer which generates input (a parameter) for the next iteration:\n",
    "\n",
    "<div>\n",
    "<img src=\"images/qva_loop.png\" width=\"600\" align=\"left\"/>\n",
    "</div>"
   ]
  },
  {
   "cell_type": "markdown",
   "id": "556d6a1b",
   "metadata": {},
   "source": [
    "## VQE - Application to Physics to study static properties\n",
    "\n",
    "The Variational Quantum Eigensolver (VQE) is a central algorithm in many applications, e.g. quantum chemistry or optimization.\n",
    "This tutorial shows you how to run the VQE. We'll start off by defining the algorithm settings, such as the Hamiltonian and ansatz, and then run a VQE both locally, on your machine, and remotely, using the IBM platform.\n",
    "\n",
    "**Note:** You can find tutorials on solving more comprehensive problems, such as finding the ground state of the lithium hydride molecule, using the VQE within [the tutorials of Qiskit Nature](https://github.com/Qiskit/qiskit-nature/tree/main/docs/tutorials)."
   ]
  },
  {
   "cell_type": "markdown",
   "id": "262c1f3f",
   "metadata": {},
   "source": [
    "## System Hamiltonian"
   ]
  },
  {
   "cell_type": "markdown",
   "id": "10009835",
   "metadata": {},
   "source": [
    "Let's start by defining the operator of which we want to determine the ground state. Here we'll chose a simple diagonal Hamiltonian $\\hat H$ acting with Pauli-Z operators on the first two qubits\n",
    "\n",
    "$$\n",
    "\\hat H = \\hat Z_0 \\otimes \\hat Z_1.\n",
    "$$\n",
    "\n",
    "We can construct this Hamiltonian with Qiskit's `opflow` module"
   ]
  },
  {
   "cell_type": "code",
   "execution_count": 2,
   "id": "f895895f",
   "metadata": {},
   "outputs": [
    {
     "name": "stderr",
     "output_type": "stream",
     "text": [
      "/var/folders/sm/1d0rxbz57bx0_9fjrdq9bf9m0000gn/T/ipykernel_10731/2599452337.py:1: DeprecationWarning: The ``qiskit.opflow`` module is deprecated as of qiskit-terra 0.24.0. It will be removed no earlier than 3 months after the release date. For code migration guidelines, visit https://qisk.it/opflow_migration.\n",
      "  from qiskit.opflow import Z, I\n"
     ]
    }
   ],
   "source": [
    "from qiskit.opflow import Z, I\n",
    "\n",
    "num_qubits = 4\n",
    "hamiltonian = (Z ^ Z) ^ (I ^ (num_qubits - 2))"
   ]
  },
  {
   "cell_type": "code",
   "execution_count": 3,
   "id": "2a1c7234",
   "metadata": {},
   "outputs": [
    {
     "data": {
      "text/plain": [
       "PauliOp(Pauli('ZZII'), coeff=1.0)"
      ]
     },
     "execution_count": 3,
     "metadata": {},
     "output_type": "execute_result"
    }
   ],
   "source": [
    "hamiltonian"
   ]
  },
  {
   "cell_type": "markdown",
   "id": "1311f430",
   "metadata": {},
   "source": [
    "This Hamiltonian has a ground state energy of -1."
   ]
  },
  {
   "cell_type": "code",
   "execution_count": 4,
   "id": "1ace3712",
   "metadata": {},
   "outputs": [],
   "source": [
    "target_energy = -1"
   ]
  },
  {
   "cell_type": "markdown",
   "id": "d2e86195",
   "metadata": {},
   "source": [
    "## Parameterized Ansatz Circuit"
   ]
  },
  {
   "cell_type": "markdown",
   "id": "bd1439dc",
   "metadata": {},
   "source": [
    "Next, we choose a parameterized quantum circuit $\\hat U(\\theta)$ to prepare the ansatz wavefunction\n",
    "\n",
    "$$\n",
    "|\\psi(\\theta)\\rangle = \\hat U(\\theta)|0\\rangle.\n",
    "$$\n",
    "\n",
    "We'll use the `EfficientSU2` circuit from Qiskit's circuit library, which is a hardware efficient, heuristic ansatz with alternating rotation and entanglement layers."
   ]
  },
  {
   "cell_type": "code",
   "execution_count": 5,
   "id": "deb866c1",
   "metadata": {},
   "outputs": [
    {
     "data": {
      "image/png": "[encoded data removed]",
      "text/plain": [
       "<Figure size 872.774x367.889 with 1 Axes>"
      ]
     },
     "execution_count": 5,
     "metadata": {},
     "output_type": "execute_result"
    }
   ],
   "source": [
    "from qiskit.circuit.library import EfficientSU2\n",
    "\n",
    "# the rotation gates are chosen randomly, so we set a seed for reproducibility\n",
    "ansatz = EfficientSU2(num_qubits, reps=1, entanglement='linear', insert_barriers=True) \n",
    "ansatz.decompose().draw('mpl', style='iqx')"
   ]
  },
  {
   "cell_type": "markdown",
   "id": "de790add",
   "metadata": {},
   "source": [
    "## Solve with the VQE"
   ]
  },
  {
   "cell_type": "markdown",
   "id": "3e594ca0",
   "metadata": {},
   "source": [
    "Now that we have the problem and ansatz specified we can use the Variational Quantum Eigensolver (VQE) to solve for the minimal eigenvalue of our Hamiltonian.\n",
    "\n",
    "The VQE requires a classical optimization routine, along with an initial point, to calculate the parameter updates."
   ]
  },
  {
   "cell_type": "code",
   "execution_count": 6,
   "id": "6d0f7a9b",
   "metadata": {},
   "outputs": [
    {
     "name": "stderr",
     "output_type": "stream",
     "text": [
      "/var/folders/sm/1d0rxbz57bx0_9fjrdq9bf9m0000gn/T/ipykernel_10731/2721813274.py:2: DeprecationWarning: ``qiskit.algorithms`` has been migrated to an independent package: https://github.com/qiskit-community/qiskit-algorithms. The ``qiskit.algorithms`` import path is deprecated as of qiskit-terra 0.25.0 and will be removed no earlier than 3 months after the release date. Please run ``pip install qiskit_algorithms`` and use ``import qiskit_algorithms`` instead.\n",
      "  from qiskit.algorithms.optimizers import SPSA\n"
     ]
    }
   ],
   "source": [
    "import numpy as np\n",
    "from qiskit.algorithms.optimizers import SPSA\n",
    "\n",
    "optimizer = SPSA(maxiter=50)\n",
    "\n",
    "np.random.seed(10)  # seed for reproducibility\n",
    "initial_point = np.random.random(ansatz.num_parameters)"
   ]
  },
  {
   "cell_type": "markdown",
   "id": "72696a3f",
   "metadata": {},
   "source": [
    "To access intermediate information we can pass a callback into the VQE. The callback is given the current number of function evaluations, the current parameters, function values and standard deviation in the expectation evaluation. "
   ]
  },
  {
   "cell_type": "code",
   "execution_count": 7,
   "id": "6ee7f4e2",
   "metadata": {},
   "outputs": [],
   "source": [
    "intermediate_info = {\n",
    "    'nfev': [],\n",
    "    'parameters': [],\n",
    "    'energy': [],\n",
    "    'stddev': []\n",
    "}\n",
    "\n",
    "def callback(nfev, parameters, energy, stddev):\n",
    "    intermediate_info['nfev'].append(nfev)\n",
    "    intermediate_info['parameters'].append(parameters)\n",
    "    intermediate_info['energy'].append(energy)\n",
    "    intermediate_info['stddev'].append(stddev)"
   ]
  },
  {
   "cell_type": "markdown",
   "id": "d805e065",
   "metadata": {},
   "source": [
    "### Local VQE\n",
    "\n",
    "Let's first simulate this system locally using Qiskit's `VQE` class."
   ]
  },
  {
   "cell_type": "code",
   "execution_count": 8,
   "id": "857d9236",
   "metadata": {},
   "outputs": [
    {
     "name": "stderr",
     "output_type": "stream",
     "text": [
      "/var/folders/sm/1d0rxbz57bx0_9fjrdq9bf9m0000gn/T/ipykernel_10731/2636151075.py:4: DeprecationWarning: The class ``qiskit.algorithms.minimum_eigen_solvers.vqe.VQE`` is deprecated as of qiskit-terra 0.24.0. It will be removed no earlier than 3 months after the release date. Instead, use the class ``qiskit.algorithms.minimum_eigensolvers.VQE``. See https://qisk.it/algo_migration for a migration guide.\n",
      "  local_vqe = VQE(ansatz=ansatz,\n"
     ]
    }
   ],
   "source": [
    "from qiskit.providers.basicaer import QasmSimulatorPy  # local simulator\n",
    "from qiskit.algorithms import VQE\n",
    "\n",
    "local_vqe = VQE(ansatz=ansatz,\n",
    "                optimizer=optimizer,\n",
    "                initial_point=initial_point,\n",
    "                quantum_instance=QasmSimulatorPy(),\n",
    "                callback=callback)"
   ]
  },
  {
   "cell_type": "code",
   "execution_count": 9,
   "id": "cc3ffbb9",
   "metadata": {},
   "outputs": [],
   "source": [
    "local_result = local_vqe.compute_minimum_eigenvalue(hamiltonian)"
   ]
  },
  {
   "cell_type": "code",
   "execution_count": 10,
   "id": "faebcd95",
   "metadata": {},
   "outputs": [
    {
     "name": "stdout",
     "output_type": "stream",
     "text": [
      "Eigenvalue: (-0.998046875+0j)\n",
      "Target: -1\n"
     ]
    }
   ],
   "source": [
    "print('Eigenvalue:', local_result.eigenvalue)\n",
    "print('Target:', target_energy)"
   ]
  },
  {
   "cell_type": "markdown",
   "id": "6ec1b736",
   "metadata": {},
   "source": [
    "With the information from the callback, we can for instance compute the average of the estimation errors in the expectation evaluations. For an exact (statevector) simulation this would be 0, but for a shot-based readout as we have on real hardware, this will be a small finite error."
   ]
  },
  {
   "cell_type": "code",
   "execution_count": 11,
   "id": "42cc8f2e",
   "metadata": {},
   "outputs": [
    {
     "name": "stdout",
     "output_type": "stream",
     "text": [
      "Mean error: 0.019017889055342733\n"
     ]
    }
   ],
   "source": [
    "print('Mean error:', np.mean(intermediate_info['stddev']))"
   ]
  },
  {
   "cell_type": "code",
   "execution_count": 12,
   "id": "0b3b9c30",
   "metadata": {},
   "outputs": [
    {
     "data": {
      "text/plain": [
       "array([ 1.32394013,  0.13997487,  1.56520692,  1.579145  ,  0.58529702,\n",
       "        0.44244833, -0.01710958, -0.09241725, -0.80132171,  0.51136028,\n",
       "       -1.54939061,  1.58532968, -0.34393667,  1.70242421,  1.01225136,\n",
       "       -0.18353685])"
      ]
     },
     "execution_count": 12,
     "metadata": {},
     "output_type": "execute_result"
    }
   ],
   "source": [
    "intermediate_info['parameters'][-1]"
   ]
  },
  {
   "cell_type": "markdown",
   "id": "45b72f6c",
   "metadata": {},
   "source": [
    "## ISING MODEL GROUND STATE CALCULATION\n",
    "The system under consideration is the Ising model with traverse field and fixed parameters. More specifically, the chain size is fixed to N = 2 and the Hamiltonian H is:\n",
    "\n",
    "\n",
    "$$\n",
    "\\mathcal{H} = -  J \\sum_{i,j}^N \\hat{s}_{z}^{(i)}\\hat{s}_{z}^{(j)} + h \\sum_{i}^N \\hat{s}_{x}^{(i)}\n",
    "$$\n",
    "\n",
    "for $h = J = 1$, and where $\\hat{s}_{x}$ and $\\hat{s}_{z}$ are the respective Pauli operators applied to the i-th qubit."
   ]
  },
  {
   "cell_type": "code",
   "execution_count": 19,
   "id": "fef28b32",
   "metadata": {},
   "outputs": [],
   "source": [
    "from qiskit.quantum_info import Kraus, SuperOp\n",
    "from qiskit.providers.aer import QasmSimulator\n",
    "from qiskit.providers.aer.noise import NoiseModel\n",
    "from qiskit.providers.aer.noise import QuantumError, ReadoutError\n",
    "from qiskit.providers.aer.noise import pauli_error\n",
    "from qiskit.providers.aer.noise import depolarizing_error\n",
    "from qiskit.providers.aer.noise import thermal_relaxation_error\n",
    "from qiskit.providers.models import BackendProperties\n",
    "from qiskit.providers.aer import noise\n",
    "\n",
    "from qiskit.tools.monitor import job_monitor\n",
    "from qiskit_algorithms.optimizers import COBYLA, SPSA\n",
    "from qiskit import IBMQ\n",
    "from qiskit.utils import QuantumInstance"
   ]
  },
  {
   "cell_type": "code",
   "execution_count": 14,
   "id": "be46d178-c29d-4934-80da-665a52177c25",
   "metadata": {},
   "outputs": [],
   "source": [
    "from qiskit_ibm_provider import IBMProvider"
   ]
  },
  {
   "cell_type": "code",
   "execution_count": 15,
   "id": "2065da3b",
   "metadata": {},
   "outputs": [
    {
     "data": {
      "text/plain": [
       "<IBMProvider>"
      ]
     },
     "execution_count": 15,
     "metadata": {},
     "output_type": "execute_result"
    }
   ],
   "source": [
    "provider = IBMProvider()\n",
    "provider"
   ]
  },
  {
   "cell_type": "code",
   "execution_count": 16,
   "id": "68335d5b",
   "metadata": {},
   "outputs": [
    {
     "data": {
      "text/plain": [
       "[<IBMBackend('simulator_extended_stabilizer')>,\n",
       " <IBMBackend('simulator_stabilizer')>,\n",
       " <IBMBackend('ibm_cairo')>,\n",
       " <IBMBackend('ibmq_mumbai')>,\n",
       " <IBMBackend('ibmq_kolkata')>,\n",
       " <IBMBackend('ibmq_qasm_simulator')>,\n",
       " <IBMBackend('simulator_mps')>,\n",
       " <IBMBackend('simulator_statevector')>,\n",
       " <IBMBackend('ibm_algiers')>,\n",
       " <IBMBackend('ibm_brisbane')>,\n",
       " <IBMBackend('ibm_kyoto')>]"
      ]
     },
     "execution_count": 16,
     "metadata": {},
     "output_type": "execute_result"
    }
   ],
   "source": [
    "provider.backends()"
   ]
  },
  {
   "cell_type": "markdown",
   "id": "9161b5ed",
   "metadata": {},
   "source": [
    "### Classical energy levels calculation"
   ]
  },
  {
   "cell_type": "code",
   "execution_count": 20,
   "id": "f78ebf4e",
   "metadata": {},
   "outputs": [],
   "source": [
    "import numpy as np\n",
    "from numpy import linalg\n",
    "from qiskit.quantum_info.operators import Operator, Pauli\n",
    "## see #https://qiskit.org/documentation/tutorials/circuits_advanced/02_operators_overview.html\n",
    "\n",
    "X = Operator(Pauli('X'))\n",
    "Z = Operator(Pauli('Z'))\n",
    "Y = Operator(Pauli('Y'))\n",
    "Id = Operator(Pauli('I'))\n",
    "\n",
    "E_l = []\n",
    "P_l = []\n",
    "energy_levels = []\n",
    "\n",
    "for k in range(len(b)):\n",
    "    H = (J)*Z.tensor(Z)+\\\n",
    "        (b[k])*Id.tensor(X)+\\\n",
    "        (b[k])*X.tensor(Id)\n",
    "\n",
    "    # Extract eig\n",
    "    E_l,P_l = linalg.eig(H.data)\n",
    "\n",
    "    Es = np.sort(E_l)\n",
    "\n",
    "    energy_levels.append(np.real(Es))"
   ]
  },
  {
   "cell_type": "markdown",
   "id": "27588abc",
   "metadata": {},
   "source": [
    "### Exercise: Quantum ground state calculation"
   ]
  },
  {
   "cell_type": "code",
   "execution_count": 21,
   "id": "9e39dd18",
   "metadata": {},
   "outputs": [],
   "source": [
    "from qiskit import Aer\n",
    "from qiskit.opflow import X, Z, I\n",
    "from qiskit.utils import QuantumInstance, algorithm_globals\n",
    "from qiskit.algorithms import VQE\n",
    "from qiskit.algorithms.optimizers import SLSQP\n",
    "from qiskit.circuit.library import TwoLocal\n"
   ]
  },
  {
   "cell_type": "code",
   "execution_count": 22,
   "id": "caeb7725",
   "metadata": {},
   "outputs": [],
   "source": [
    "num_qubits = 2"
   ]
  },
  {
   "cell_type": "code",
   "execution_count": 23,
   "id": "aae3ff7a",
   "metadata": {},
   "outputs": [
    {
     "data": {
      "image/png": "[encoded data removed]",
      "text/plain": [
       "<Figure size 705.35x200.667 with 1 Axes>"
      ]
     },
     "execution_count": 23,
     "metadata": {},
     "output_type": "execute_result"
    }
   ],
   "source": [
    "ansatz = EfficientSU2(num_qubits, reps=1, entanglement='linear', insert_barriers=True) \n",
    "ansatz.decompose().draw('mpl', style='iqx')"
   ]
  },
  {
   "cell_type": "code",
   "execution_count": 24,
   "id": "4c8aec1d",
   "metadata": {},
   "outputs": [],
   "source": [
    "np.random.seed(10)  # seed for reproducibility\n",
    "initial_point = np.random.random(ansatz.num_parameters)"
   ]
  },
  {
   "cell_type": "code",
   "execution_count": 25,
   "id": "498f7e26",
   "metadata": {},
   "outputs": [],
   "source": [
    "intermediate_info = {\n",
    "    'nfev': [],\n",
    "    'parameters': [],\n",
    "    'energy': [],\n",
    "    'stddev': []\n",
    "}\n",
    "\n",
    "def callback(nfev, parameters, energy, stddev):\n",
    "    intermediate_info['nfev'].append(nfev)\n",
    "    intermediate_info['parameters'].append(parameters)\n",
    "    intermediate_info['energy'].append(energy)\n",
    "    intermediate_info['stddev'].append(stddev)"
   ]
  },
  {
   "cell_type": "code",
   "execution_count": 26,
   "id": "d4d828f9",
   "metadata": {},
   "outputs": [
    {
     "name": "stderr",
     "output_type": "stream",
     "text": [
      "/var/folders/sm/1d0rxbz57bx0_9fjrdq9bf9m0000gn/T/ipykernel_10731/3123354769.py:3: DeprecationWarning: The class ``qiskit.algorithms.minimum_eigen_solvers.vqe.VQE`` is deprecated as of qiskit-terra 0.24.0. It will be removed no earlier than 3 months after the release date. Instead, use the class ``qiskit.algorithms.minimum_eigensolvers.VQE``. See https://qisk.it/algo_migration for a migration guide.\n",
      "  local_vqe = VQE(ansatz=ansatz,\n"
     ]
    }
   ],
   "source": [
    "#you can choose quantum_instance with BK\n",
    "\n",
    "local_vqe = VQE(ansatz=ansatz,\n",
    "                optimizer=optimizer,\n",
    "                initial_point=initial_point,\n",
    "                quantum_instance=QasmSimulatorPy(),\n",
    "                callback=callback)"
   ]
  },
  {
   "cell_type": "code",
   "execution_count": 27,
   "id": "f1db03cc",
   "metadata": {},
   "outputs": [],
   "source": [
    "energy = []\n",
    "\n",
    "for k in range(len(b)):\n",
    "    # Extract en\n",
    "    hamiltonian = (Z ^ Z) + (b[k])*(I^X) + (b[k])*(X^I)\n",
    "    local_result = local_vqe.compute_minimum_eigenvalue(hamiltonian)\n",
    "    energy.append(local_result.eigenvalue)"
   ]
  },
  {
   "cell_type": "code",
   "execution_count": 28,
   "id": "9a43959a",
   "metadata": {},
   "outputs": [
    {
     "name": "stderr",
     "output_type": "stream",
     "text": [
      "/opt/homebrew/Caskroom/miniforge/base/envs/qiskit_trieste23/lib/python3.9/site-packages/matplotlib/cbook.py:1699: ComplexWarning: Casting complex values to real discards the imaginary part\n",
      "  return math.isfinite(val)\n",
      "/opt/homebrew/Caskroom/miniforge/base/envs/qiskit_trieste23/lib/python3.9/site-packages/matplotlib/collections.py:194: ComplexWarning: Casting complex values to real discards the imaginary part\n",
      "  offsets = np.asanyarray(offsets, float)\n"
     ]
    },
    {
     "data": {
      "image/png": "[encoded data removed]",
      "text/plain": [
       "<Figure size 640x480 with 1 Axes>"
      ]
     },
     "metadata": {},
     "output_type": "display_data"
    }
   ],
   "source": [
    "###VERY ROUGH RESULTS WITHOUT OPTIMIZATION\n",
    "import matplotlib.pyplot as plt\n",
    "fig, ax = plt.subplots()\n",
    "#plt.xticks(b)\n",
    "\n",
    "ax.scatter(b, energy, marker='o')\n",
    "ax.plot(b, energy_levels, color=\"#c2c2c2\", linewidth=0.5)\n",
    "\n",
    "ax.set(xlabel='B field', ylabel='Energy', title='')\n",
    "\n",
    "#ax.grid()\n",
    "plt.show()\n",
    "\n",
    "## ADDITIONAL DETAILS: https://github.com/Qiskit/qiskit-tutorials/blob/master/tutorials/algorithms/03_vqe_simulation_with_noise.ipynb"
   ]
  },
  {
   "cell_type": "markdown",
   "id": "870f8643",
   "metadata": {},
   "source": [
    "##  Digital Quantum Simulations of Time Evolution - Simulating the Heisenberg Chain\n",
    "\n",
    "\n",
    "<p style='text-align: justify;'> In this section, we will use qiskit to program and run the digital quantum simulation of spin Hamiltonians. We will see at work many fundamental concepts, from the well known Trotter digitalization procedure to useful gate decompositions, and we will operatively test the capabilities of a quantum computer in solving the time evolution of a quantum system of interest.</p>\n",
    "\n",
    "<p style='text-align: justify;'> In addition to qiskit, we will use some other well known python tools to do linear algebra calculations and to generate plots. All the required modules are imported below, together with the definition of some standard operators.</p>"
   ]
  },
  {
   "cell_type": "markdown",
   "id": "75b5cdb3",
   "metadata": {},
   "source": [
    "We will use the $XXX$ Heisenberg Hamiltonian $H_{\\text{Heis}}$ as defined below\n",
    "\n",
    "$$\n",
    "\\begin{equation}\n",
    "H_{\\text{Heis}} = \\sum_{\\langle ij \\rangle}^{N} J \\left(\\sigma_x^{(i)}\\sigma_x^{(j)} + \\sigma_y^{(i)}\\sigma_y^{(j)} + \\sigma_z^{(i)}\\sigma_z^{(j)}\\right).\n",
    "\\end{equation}\n",
    "$$\n",
    "\n",
    "$N$ is the number of spin-1/2 particles in model. The operators $\\sigma_x$, $\\sigma_y$, and $\\sigma_z$ are the usual Pauli operators where the $i$ and $j$ superscripts label which qubit they act on. For example, $\\sigma_x^{(1)}$ would be the $\\sigma_x$ operator acting on only qubit 1. This version of the general Heisenberg spin model is called $XXX$ because the same $J$ value multiplies each pair of Pauli operators. The sum notation $\\langle ij \\rangle$ means the sum is over nearest neighbors (only qubits next to each other interact), and $J$ is the interaction strength, which we will set $J=1$."
   ]
  },
  {
   "cell_type": "code",
   "execution_count": 29,
   "id": "e77d16e1",
   "metadata": {},
   "outputs": [],
   "source": [
    "import numpy as np\n",
    "import matplotlib.pyplot as plt\n",
    "\n",
    "from qiskit.opflow.state_fns    import CircuitStateFn\n",
    "from qiskit.opflow              import PauliSumOp\n",
    "from qiskit.quantum_info        import SparsePauliOp"
   ]
  },
  {
   "cell_type": "markdown",
   "id": "e2c75c28",
   "metadata": {},
   "source": [
    "### Classical simulation of the Heisenberg chain\n",
    "\n",
    "We can use Qiskit to have a classical simulation of the Heisenberg chain that we will use as a benchmark for the quantum computations."
   ]
  },
  {
   "cell_type": "code",
   "execution_count": 30,
   "id": "06756586",
   "metadata": {},
   "outputs": [],
   "source": [
    "# Returns the matrix representation of the XXX Heisenberg model\n",
    "def H_heis(n_spins):\n",
    "    \n",
    "    # using SparsePauliOp from Terra 0.20 is very compact\n",
    "    XXs = SparsePauliOp.from_sparse_list([[\"XX\", [i,i+1], 1] for i in range(n_spins-1)], n_spins)\n",
    "    YYs = SparsePauliOp.from_sparse_list([[\"YY\", [i,i+1], 1] for i in range(n_spins-1)], n_spins)\n",
    "    ZZs = SparsePauliOp.from_sparse_list([[\"ZZ\", [i,i+1], 1] for i in range(n_spins-1)], n_spins)\n",
    "    \n",
    "    # Sum interactions\n",
    "    H = XXs + YYs + ZZs\n",
    "    \n",
    "    # Return Hamiltonian\n",
    "    return H"
   ]
  },
  {
   "cell_type": "code",
   "execution_count": 31,
   "id": "b988b377",
   "metadata": {},
   "outputs": [],
   "source": [
    "def U_heis(n_spins,t):\n",
    "    # Compute XXX Hamiltonian \n",
    "    # Need to create a PauliSumOp for future compatibility\n",
    "    H = PauliSumOp(H_heis(n_spins))\n",
    "    \n",
    "    # Return the exponential of -i multipled by time t multipled by the XXX Heisenberg Hamiltonian \n",
    "    return (t * H).exp_i()"
   ]
  },
  {
   "cell_type": "markdown",
   "id": "c4a3b7a4",
   "metadata": {},
   "source": [
    "Now that we have the time evolution operator we can apply it to an inital state of choice and study its time dependent properties. \n",
    "\n",
    "We consider a system of $N=3$ spins with the initial state $|\\psi_0 \\rangle = |110\\rangle$ and evolve it up until total time $T=\\pi$.\n",
    "\n",
    "We will measure the overlap with the initial state at every time $t$, namely $O(t) = |\\langle110|U(t)|110\\rangle|^2$."
   ]
  },
  {
   "cell_type": "code",
   "execution_count": 32,
   "id": "00938251",
   "metadata": {},
   "outputs": [
    {
     "ename": "NameError",
     "evalue": "name 'One' is not defined",
     "output_type": "error",
     "traceback": [
      "\u001b[0;31m---------------------------------------------------------------------------\u001b[0m",
      "\u001b[0;31mNameError\u001b[0m                                 Traceback (most recent call last)",
      "Cell \u001b[0;32mIn[32], line 6\u001b[0m\n\u001b[1;32m      3\u001b[0m n_spins \u001b[38;5;241m=\u001b[39m \u001b[38;5;241m3\u001b[39m\n\u001b[1;32m      5\u001b[0m \u001b[38;5;66;03m# Define initial state |110>\u001b[39;00m\n\u001b[0;32m----> 6\u001b[0m initial_state \u001b[38;5;241m=\u001b[39m \u001b[43mOne\u001b[49m\u001b[38;5;241m^\u001b[39mOne\u001b[38;5;241m^\u001b[39mZero\n\u001b[1;32m      8\u001b[0m \u001b[38;5;66;03m# Compute probability of remaining in |110> state over the array of time points\u001b[39;00m\n\u001b[1;32m      9\u001b[0m  \u001b[38;5;66;03m# ~initial_state gives the bra of the initial state (<110|)\u001b[39;00m\n\u001b[1;32m     10\u001b[0m  \u001b[38;5;66;03m# @ is short hand for matrix multiplication\u001b[39;00m\n\u001b[0;32m   (...)\u001b[0m\n\u001b[1;32m     14\u001b[0m  \u001b[38;5;66;03m#  np.abs(...)**2 is the modulus squared of the innner product which is the expectation value,\u001b[39;00m\n\u001b[1;32m     15\u001b[0m  \u001b[38;5;66;03m# or probability, of remaining in |110>\u001b[39;00m\n\u001b[1;32m     16\u001b[0m probs_110_exact \u001b[38;5;241m=\u001b[39m [np\u001b[38;5;241m.\u001b[39mabs((\u001b[38;5;241m~\u001b[39minitial_state \u001b[38;5;241m@\u001b[39m U_heis(n_spins,\u001b[38;5;28mfloat\u001b[39m(t)) \u001b[38;5;241m@\u001b[39m initial_state)\u001b[38;5;241m.\u001b[39meval())\u001b[38;5;241m*\u001b[39m\u001b[38;5;241m*\u001b[39m\u001b[38;5;241m2\u001b[39m \u001b[38;5;28;01mfor\u001b[39;00m t \u001b[38;5;129;01min\u001b[39;00m ts]\n",
      "\u001b[0;31mNameError\u001b[0m: name 'One' is not defined"
     ]
    }
   ],
   "source": [
    "# Define array of time points\n",
    "ts      = np.linspace(0, np.pi, 100)\n",
    "n_spins = 3\n",
    "\n",
    "# Define initial state |110>\n",
    "initial_state = ...\n",
    "\n",
    "# Compute probability of remaining in |110> state over the array of time points\n",
    " # ~initial_state gives the bra of the initial state (<110|)\n",
    " # @ is short hand for matrix multiplication\n",
    " # U_heis(t) is the unitary time evolution at time t\n",
    " # t needs to be wrapped with float(t) to avoid a bug\n",
    " # (...).eval() returns the inner product <110|U_heis(t)|110>\n",
    " #  np.abs(...)**2 is the modulus squared of the innner product which is the expectation value,\n",
    " # or probability, of remaining in |110>\n",
    "probs_110_exact = [np.abs((~initial_state @ U_heis(n_spins,float(t)) @ initial_state).eval())**2 for t in ts]\n",
    "\n",
    "# Plot evolution of |110>\n",
    "plt.plot(ts, probs_110_exact,linestyle=\"dashed\",color=\"blue\")\n",
    "plt.xlabel('time')\n",
    "plt.ylabel(r'probability of state $|110\\rangle$')\n",
    "plt.title(r'Evolution of state $|110\\rangle$ under $H_{Heis}$')\n",
    "plt.grid()\n",
    "plt.show()"
   ]
  },
  {
   "cell_type": "markdown",
   "id": "a7c08c22",
   "metadata": {},
   "source": [
    "### Quantum simulation of the Heisenberg chain\n",
    "### Part I: The 2 spins case\n",
    "\n",
    "For the 2 spins case the Hamiltonian has the following form:\n",
    "\n",
    "$$\n",
    "H_{\\text{Heis2}} = \\sigma_x^{(0)}\\sigma_x^{(1)} + \\sigma_y^{(0)}\\sigma_y^{(1)} + \\sigma_z^{(0)}\\sigma_z^{(1)}\n",
    "$$\n",
    "\n",
    "We notice that the Pauli operator pairs ($\\sigma_x^{(i)}\\sigma_x^{(j)}$, $\\sigma_y^{(i)}\\sigma_y^{(j)}$, and $\\sigma_z^{(i)}\\sigma_z^{(j)}$) commute. This means that the exponential decomposition using Trotterization of a 2 spins Hamiltonian ($H_{\\text{Heis2}}$) is exact and gets us closer to a gate implementation of $U_{\\text{Heis2}}(t)$\n",
    "\n",
    "$$\n",
    "\\begin{align}\n",
    "U_{\\text{Heis2}}(t) &= \\exp\\left(-itH_{\\text{Heis2}}\\right) \\\\\n",
    "U_{\\text{Heis2}}(t) &= \\exp\\left(-it\\sigma_x^{(0)}\\sigma_x^{(1)}\\right) \\exp\\left(-it\\sigma_y^{(0)}\\sigma_y^{(1)}\\right) \\exp\\left(-it\\sigma_z^{(0)}\\sigma_z^{(1)}\\right) \n",
    "\\end{align}\n",
    "$$\n",
    "\n",
    "\n",
    "\n",
    " Qiskit already includes these operations, but we will see how we can construct the three operations using only  universal set of operations containing single qubit rotations and the $\\mathrm{CNOT}$ gate, since this is what is natively implemented on the IBMQ devices, but other choices are of course equally valid from a mathematical perspective. The simplest transformation to implement is perhaps the so called $\\mathrm{ZZ}(\\delta)$:\n",
    "$$\n",
    "\\mathrm{ZZ}(\\delta) = e^{-i\\delta \\sigma_z^{(1)}\\sigma_z^{(2)}}\n",
    "$$\n",
    "Up to a global phase factor, which can be disregarded when working with quantum states, it corresponds to a combination of two $\\mathrm{CNOT}$ gates and a single phase gate (which is called $\\mathrm{U}(\\lambda)$ in qiskit)\n",
    "$$\n",
    "\\mathrm{ZZ}(\\delta) \\rightarrow \\mathrm{CNOT}(q_c,q_t) \\left(\\mathcal{I}_{q_c}\\otimes\\mathrm{U}(-2\\delta)_{q_t}\\right) \\mathrm{CNOT}(q_c,q_t)\n",
    "$$\n",
    "\n"
   ]
  },
  {
   "cell_type": "code",
   "execution_count": 35,
   "id": "b817f4c5",
   "metadata": {},
   "outputs": [
    {
     "ename": "TypeError",
     "evalue": "bad operand type for unary ~: 'Statevector'",
     "output_type": "error",
     "traceback": [
      "\u001b[0;31m---------------------------------------------------------------------------\u001b[0m",
      "\u001b[0;31mTypeError\u001b[0m                                 Traceback (most recent call last)",
      "Cell \u001b[0;32mIn[35], line 11\u001b[0m\n\u001b[1;32m      8\u001b[0m \u001b[38;5;66;03m# Define initial state |10>\u001b[39;00m\n\u001b[1;32m      9\u001b[0m \u001b[38;5;66;03m#initial_state = Zero^One\u001b[39;00m\n\u001b[1;32m     10\u001b[0m initial_state \u001b[38;5;241m=\u001b[39m Statevector\u001b[38;5;241m.\u001b[39mfrom_label(\u001b[38;5;124m'\u001b[39m\u001b[38;5;124m10\u001b[39m\u001b[38;5;124m'\u001b[39m)\n\u001b[0;32m---> 11\u001b[0m probs_10_exact \u001b[38;5;241m=\u001b[39m [np\u001b[38;5;241m.\u001b[39mabs((\u001b[38;5;241m~\u001b[39minitial_state \u001b[38;5;241m@\u001b[39m U_heis(n_spins,\u001b[38;5;28mfloat\u001b[39m(t)) \u001b[38;5;241m@\u001b[39m initial_state)\u001b[38;5;241m.\u001b[39meval())\u001b[38;5;241m*\u001b[39m\u001b[38;5;241m*\u001b[39m\u001b[38;5;241m2\u001b[39m \u001b[38;5;28;01mfor\u001b[39;00m t \u001b[38;5;129;01min\u001b[39;00m ts]\n\u001b[1;32m     13\u001b[0m \u001b[38;5;66;03m# Plot evolution of |10>\u001b[39;00m\n\u001b[1;32m     14\u001b[0m plt\u001b[38;5;241m.\u001b[39mplot(ts, probs_10_exact,linestyle\u001b[38;5;241m=\u001b[39m\u001b[38;5;124m\"\u001b[39m\u001b[38;5;124mdashed\u001b[39m\u001b[38;5;124m\"\u001b[39m,color\u001b[38;5;241m=\u001b[39m\u001b[38;5;124m\"\u001b[39m\u001b[38;5;124mblack\u001b[39m\u001b[38;5;124m\"\u001b[39m)\n",
      "Cell \u001b[0;32mIn[35], line 11\u001b[0m, in \u001b[0;36m<listcomp>\u001b[0;34m(.0)\u001b[0m\n\u001b[1;32m      8\u001b[0m \u001b[38;5;66;03m# Define initial state |10>\u001b[39;00m\n\u001b[1;32m      9\u001b[0m \u001b[38;5;66;03m#initial_state = Zero^One\u001b[39;00m\n\u001b[1;32m     10\u001b[0m initial_state \u001b[38;5;241m=\u001b[39m Statevector\u001b[38;5;241m.\u001b[39mfrom_label(\u001b[38;5;124m'\u001b[39m\u001b[38;5;124m10\u001b[39m\u001b[38;5;124m'\u001b[39m)\n\u001b[0;32m---> 11\u001b[0m probs_10_exact \u001b[38;5;241m=\u001b[39m [np\u001b[38;5;241m.\u001b[39mabs((\u001b[38;5;241;43m~\u001b[39;49m\u001b[43minitial_state\u001b[49m \u001b[38;5;241m@\u001b[39m U_heis(n_spins,\u001b[38;5;28mfloat\u001b[39m(t)) \u001b[38;5;241m@\u001b[39m initial_state)\u001b[38;5;241m.\u001b[39meval())\u001b[38;5;241m*\u001b[39m\u001b[38;5;241m*\u001b[39m\u001b[38;5;241m2\u001b[39m \u001b[38;5;28;01mfor\u001b[39;00m t \u001b[38;5;129;01min\u001b[39;00m ts]\n\u001b[1;32m     13\u001b[0m \u001b[38;5;66;03m# Plot evolution of |10>\u001b[39;00m\n\u001b[1;32m     14\u001b[0m plt\u001b[38;5;241m.\u001b[39mplot(ts, probs_10_exact,linestyle\u001b[38;5;241m=\u001b[39m\u001b[38;5;124m\"\u001b[39m\u001b[38;5;124mdashed\u001b[39m\u001b[38;5;124m\"\u001b[39m,color\u001b[38;5;241m=\u001b[39m\u001b[38;5;124m\"\u001b[39m\u001b[38;5;124mblack\u001b[39m\u001b[38;5;124m\"\u001b[39m)\n",
      "\u001b[0;31mTypeError\u001b[0m: bad operand type for unary ~: 'Statevector'"
     ]
    }
   ],
   "source": [
    "# First, create a classical simulation to compare\n",
    "from qiskit.quantum_info import Statevector\n",
    "\n",
    "# Define array of time points\n",
    "ts      = np.linspace(0, np.pi, 100)\n",
    "n_spins = 2\n",
    "\n",
    "# Define initial state |10>\n",
    "initial_state = ...\n",
    "\n",
    "probs_10_exact = [np.abs((~initial_state @ U_heis(n_spins,float(t)) @ initial_state).eval())**2 for t in ts]\n",
    "\n",
    "# Plot evolution of |10>\n",
    "plt.plot(ts, probs_10_exact,linestyle=\"dashed\",color=\"black\")\n",
    "plt.xlabel('time')\n",
    "plt.ylabel(r'probability of state $|10\\rangle$')\n",
    "plt.title(r'Evolution of state $|10\\rangle$ under $H_{Heis}$')\n",
    "plt.grid()\n",
    "plt.show()"
   ]
  },
  {
   "cell_type": "markdown",
   "id": "3c7cf93f",
   "metadata": {},
   "source": [
    "We will start from the $R_{ZZ}(\\theta)$ rotation gate.\n",
    "\n",
    "Once this gate is decomposed, we can act on the two qubits with $R_{Y}$ and $R_{X}$ to construct $R_{XX}$ and $R_{YY}$, respectively.\n",
    "\n",
    "The $R_{ZZ}(\\theta)$ is a two qubit gate with the following structure:\n",
    "\n",
    "$$\n",
    "R_{ZZ}(\\theta) = \\cos(\\theta) I \\otimes I - i\\sin(\\theta) Z \\otimes Z = \n",
    "\\begin{bmatrix}\n",
    "\\cos(\\theta)- i\\sin(\\theta) & 0 & 0 & 0 \\\\\n",
    "0 & \\cos(\\theta)+ i\\sin(\\theta) & 0 & 0 \\\\\n",
    "0 & 0 & \\cos(\\theta)+ i\\sin(\\theta) & 0 \\\\\n",
    "0 & 0 & 0 & \\cos(\\theta)- i\\sin(\\theta)\n",
    "\\end{bmatrix}\n",
    "$$\n",
    "\n",
    "Since there are only diagonal elements, we can start from a single qubit rotation $R_{Z} =\\cos(\\theta) I - i\\sin(\\theta) Z$, which is already diagonal\n",
    "\n",
    "$$\n",
    "I \\otimes R_{Z}(\\theta) = \n",
    "\\begin{bmatrix}\n",
    "\\cos(\\theta)- i\\sin(\\theta) & 0 & 0 & 0 \\\\\n",
    "0 & \\cos(\\theta)+ i\\sin(\\theta) & 0 & 0 \\\\\n",
    "0 & 0 & \\cos(\\theta)- i\\sin(\\theta) & 0 \\\\\n",
    "0 & 0 & 0 & \\cos(\\theta)+ i\\sin(\\theta)\n",
    "\\end{bmatrix}\n",
    "$$\n",
    "\n",
    "and then invert the third and the fourth element of the diagonal.\n",
    "We can switch 3rd and 4th rows by multiplying this matrix by a CNOT and then switch 3rd and 4th columns by mmultiplying the result by another $CNOT$ (see the $CNOT$ definition in the lecture note).\n",
    "\n",
    "The final result is therefore $CNOT_{12}*I \\otimes R_{Z}(\\theta)*CNOT_{12}$."
   ]
  },
  {
   "cell_type": "code",
   "execution_count": 39,
   "id": "53eaae26",
   "metadata": {},
   "outputs": [],
   "source": [
    "def R_zz(t):\n",
    "    \n",
    "    '''\n",
    "    Circuit for R_zz(t), as derived\n",
    "    \n",
    "    Args:\n",
    "        - t: parameter of the rotation\n",
    "        \n",
    "    Returns:\n",
    "        A QuantumCircuit implementing the R_zz(t) rotation with name ZZ\n",
    "    '''\n",
    "    ZZ_qr = QuantumRegister(2)\n",
    "    ZZ_qc = QuantumCircuit(ZZ_qr, name='ZZ')\n",
    "\n",
    "    ZZ_qc.cnot(0,1)\n",
    "    ZZ_qc.rz(2 * t, 1) #<- Rotations are defined as R(\\theta) = e^{-iP \\theta/2} in Qiskit\n",
    "    ZZ_qc.cnot(0,1)\n",
    "\n",
    "    return ZZ_qc"
   ]
  },
  {
   "cell_type": "code",
   "execution_count": 40,
   "id": "bc6423d5",
   "metadata": {},
   "outputs": [
    {
     "data": {
      "image/png": "[encoded data removed]",
      "text/plain": [
       "<Figure size 426.001x200.667 with 1 Axes>"
      ]
     },
     "execution_count": 40,
     "metadata": {},
     "output_type": "execute_result"
    }
   ],
   "source": [
    "R_zz(1).draw(\"mpl\")"
   ]
  },
  {
   "cell_type": "markdown",
   "id": "592726cc",
   "metadata": {},
   "source": [
    "Now we can apply a basis change using \n",
    "$$\n",
    "R_{Y}(\\theta) = \\exp\\left(-i \\frac{\\theta}{2} Y\\right) =\n",
    "            \\begin{pmatrix}\n",
    "                \\cos{\\frac{\\theta}{2}} & -\\sin{\\frac{\\theta}{2}} \\\\\n",
    "                \\sin{\\frac{\\theta}{2}} & \\cos{\\frac{\\theta}{2}}\n",
    "            \\end{pmatrix}\n",
    "$$\n",
    "\n",
    "apply $R_{ZZ}$ and then change the basis back to the original in order to apply the $R_{XX}$.\n",
    "\n",
    "In particular\n",
    "\n",
    "$$\n",
    "R_{Y}(\\pi/2) = \\frac{1}{\\sqrt{2}}\n",
    "            \\begin{pmatrix}\n",
    "                1 & -1 \\\\\n",
    "                1 & 1\n",
    "            \\end{pmatrix}\n",
    "$$\n",
    "\n",
    "and $R_{Y}(\\pi/2) Z R_{Y}(-\\pi/2) = X$, $R_{Y}(\\pi/2) R_{Y}(-\\pi/2) = I$, therefore"
   ]
  },
  {
   "cell_type": "code",
   "execution_count": 41,
   "id": "c39c9bfa",
   "metadata": {},
   "outputs": [],
   "source": [
    "def R_xx(t):\n",
    "    \n",
    "    '''\n",
    "    Circuit for R_xx(t)\n",
    "    \n",
    "    Args:\n",
    "        - t: parameter of the rotation\n",
    "        \n",
    "    Returns:\n",
    "        A QuantumCircuit implementing the R_xx(t) rotation with name XX\n",
    "    '''\n",
    "\n",
    "    XX_qr = QuantumRegister(2)\n",
    "    XX_qc = QuantumCircuit(XX_qr, name='XX')\n",
    "\n",
    "    XX_qc.ry(np.pi/2,[0,1])\n",
    "    XX_qc.cnot(0,1)\n",
    "    XX_qc.rz(2 * t, 1)\n",
    "    XX_qc.cnot(0,1)\n",
    "    XX_qc.ry(-np.pi/2,[0,1])\n",
    "\n",
    "    return XX_qc\n",
    "\n",
    "\n"
   ]
  },
  {
   "cell_type": "code",
   "execution_count": 42,
   "id": "35855206",
   "metadata": {},
   "outputs": [
    {
     "data": {
      "image/png": "[encoded data removed]",
      "text/plain": [
       "<Figure size 593.223x200.667 with 1 Axes>"
      ]
     },
     "execution_count": 42,
     "metadata": {},
     "output_type": "execute_result"
    }
   ],
   "source": [
    "R_xx(1).draw(\"mpl\")"
   ]
  },
  {
   "cell_type": "markdown",
   "id": "1aaf1266",
   "metadata": {},
   "source": [
    "And a similar procedure for $R_{YY}$ with\n",
    "\n",
    "$$\n",
    "R_{X}(\\theta) = \\exp\\left(-i \\frac{\\theta}{2} X\\right) =\n",
    "            \\begin{pmatrix}\n",
    "                \\cos{\\frac{\\theta}{2}}   & -i\\sin{\\frac{\\theta}{2}} \\\\\n",
    "                -i\\sin{\\frac{\\theta}{2}} & \\cos{\\frac{\\theta}{2}}\n",
    "            \\end{pmatrix}\n",
    "$$"
   ]
  },
  {
   "cell_type": "code",
   "execution_count": 43,
   "id": "373d4309",
   "metadata": {},
   "outputs": [],
   "source": [
    "def R_yy(t):\n",
    "    \n",
    "    '''\n",
    "    Circuit for R_yy(t)\n",
    "    \n",
    "    Args:\n",
    "        - t: parameter of the rotation\n",
    "        \n",
    "    Returns:\n",
    "        A QuantumCircuit implementing the R_yy(t) rotation with name YY\n",
    "    '''\n",
    "\n",
    "    YY_qr = QuantumRegister(2)\n",
    "    YY_qc = QuantumCircuit(YY_qr, name='YY')\n",
    "    \n",
    "    YY_qc.rx(np.pi/2,[0,1])\n",
    "    YY_qc.cnot(0,1)\n",
    "    YY_qc.rz(2 * t, 1)\n",
    "    YY_qc.cnot(0,1)\n",
    "    YY_qc.rx(-np.pi/2,[0,1])\n",
    "\n",
    "    return YY_qc"
   ]
  },
  {
   "cell_type": "markdown",
   "id": "0037d55e",
   "metadata": {},
   "source": [
    "The overall sequence required to simulate the Heisenberg dimer is therefore\n",
    "$$\n",
    "e^{-i\\mathrm{H}t} = \\mathrm{XX}(\\delta)\\mathrm{YY}(\\delta)\\mathrm{ZZ}(\\delta)\n",
    "$$"
   ]
  },
  {
   "cell_type": "code",
   "execution_count": 37,
   "id": "0478d3b1-a4fd-411a-b14a-32ec6fce2da1",
   "metadata": {},
   "outputs": [
    {
     "name": "stdout",
     "output_type": "stream",
     "text": [
      "As Pauli Op:  Pauli('XX')\n",
      "As Sparse Pauli Op:  SparsePauliOp(['XX'],\n",
      "              coeffs=[1.+0.j])\n"
     ]
    }
   ],
   "source": [
    "from qiskit.quantum_info import Pauli, SparsePauliOp\n",
    " \n",
    "operator = Pauli('XX')\n",
    " \n",
    "# equivalent to:\n",
    "X = Pauli('X')\n",
    "operator = X ^ X\n",
    "print(\"As Pauli Op: \", repr(operator))\n",
    " \n",
    "# another alternative is:\n",
    "operator = SparsePauliOp('XX')\n",
    "print(\"As Sparse Pauli Op: \", repr(operator))"
   ]
  },
  {
   "cell_type": "code",
   "execution_count": 46,
   "id": "57c2d93a",
   "metadata": {},
   "outputs": [
    {
     "data": {
      "image/png": "[encoded data removed]",
      "text/plain": [
       "<Figure size 287.294x284.278 with 1 Axes>"
      ]
     },
     "execution_count": 46,
     "metadata": {},
     "output_type": "execute_result"
    }
   ],
   "source": [
    "### Alternatively\n",
    "from qiskit.quantum_info.operators import Operator, Pauli\n",
    "\n",
    "X = Operator(Pauli('X'))\n",
    "Z = Operator(Pauli('Z'))\n",
    "Y = Operator(Pauli('Y'))\n",
    "Id = Operator(Pauli('I'))\n",
    "# Add to a circuit\n",
    "# Add to a circuit\n",
    "zz_example_new = QuantumCircuit(2, 2)\n",
    "zz_example_new.append(Pauli('ZZ'), [0, 1])\n",
    "zz_example_new.draw(output='mpl')"
   ]
  },
  {
   "cell_type": "markdown",
   "id": "3d67da28",
   "metadata": {},
   "source": [
    "### Computing Magnetization"
   ]
  },
  {
   "cell_type": "markdown",
   "id": "469b4845",
   "metadata": {},
   "source": [
    "By adding at the end of the circuit a measurement in the computational basis, we get an estimate of the probabilities $p_0^{(i)},p_1^{(i)}$ of finding each qubit in one of the two eigenstates of $\\sigma_z$ (i.e. $\\left|0\\right\\rangle$ and $\\left|1\\right\\rangle$) and therefore with an estimate of the average spin magnetization along the $z$ direction\n",
    "$$\n",
    "\\left\\langle\\hat{s}^{(i)}_z(t)\\right\\rangle = \\frac{1}{2}\\left\\langle\\psi (t)\\right|\\sigma^{(i)}_z(t)\\left|\\psi(t)\\right\\rangle = \\frac{1}{2}\\left(+1 \\cdot p_0^{(i)} -1\\cdot p_1^{(i)}\\right)\n",
    "$$\n",
    "where $\\left|\\psi(t)\\right\\rangle = U(t)\\left|\\psi (0)\\right\\rangle$ is the time evolved state of the two qubits. In order to obtain a non-trivial time evolution for $\\left\\langle\\hat{s}^{(i)}_z(t)\\right\\rangle$, we will start from the initial state\n",
    "$$\n",
    "\\left|\\psi (0) \\right\\rangle = \\left|1\\right\\rangle \\otimes \\left|0\\right\\rangle\n",
    "$$\n",
    "You can find below the python code that compares the classical simulation of the Heisenberg dimer model with standard linear algebra techniques and the corresponding digital quantum simulation. Take a moment to understand the code, to play around with the parameters (including the number of repetitions of the quantum sequence) and to appreciate the agreement between the two techniques.  \n"
   ]
  },
  {
   "cell_type": "markdown",
   "id": "bea2d9f5",
   "metadata": {},
   "source": [
    "Some reference to move to more difficult scenario with Trotterization: https://qiskit.org/documentation/stubs/qiskit.opflow.evolutions.html\n",
    "    "
   ]
  },
  {
   "cell_type": "markdown",
   "id": "71589319",
   "metadata": {},
   "source": [
    "## Extra: what happens when $N>2$ \n",
    "\n",
    "Now we will study the more general case. \n",
    "\n",
    "Actually, we just need to add a spin to see the difference: the exponential $U_{\\text{Heis3}}(t)$ cannot be split into a product of simpler exponentials. \n",
    "However, we can approximate $U_{\\text{Heis3}}(t)$ as a product of simpler exponentials through Trotterization. \n",
    "Consider again the 2 spin case, within the larger 3 spin system. \n",
    "As we have seen the Hamiltonian on spins $i$ and $j$ ($i,j \\in \\{0,1,2\\}$) is $H^{(i,j)}_{\\text{Heis2}} = \\sigma_x^{(i)}\\sigma_x^{(j)} + \\sigma_y^{(i)}\\sigma_y^{(j)} + \\sigma_z^{(i)}\\sigma_z^{(j)}$. \n",
    "Rewritting $U_{\\text{Heis3}}(t)$ in terms of the two possible subsystems within the total $N=3$ system you will simulate,\n",
    "\n",
    "$$\n",
    "U_{\\text{Heis3}}(t) = \\exp\\left[-i t \\left(H^{(0,1)}_{\\text{Heis2}} + H^{(1,2)}_{\\text{Heis2}} \\right)\\right].\n",
    "$$\n",
    "\n",
    "$H^{(0,1)}_{\\text{Heis2}}$ and $H^{(1,2)}_{\\text{Heis2}}$ do not commute, so $U_{\\text{Heis3}}(t) \\neq \\exp\\left(-i t H^{(0,1)}_{\\text{Heis2}}\\right) \\exp\\left(-i t H^{(1,2)}_{\\text{Heis2}} \\right)$.\n",
    "But, this product decomposition can be approximated with Trotterization which says $U_{\\text{Heis3}}(t)$ is approximately a short evolution of $H^{(0,1)}_{\\text{Heis2}}$ (time = $t/n$) and followed by a short evolution of $H^{(1,2)}_{\\text{Heis2}}$ (time = $t/n$) repeated $n$ times\n",
    "\n",
    "$$\n",
    "\\begin{align}\n",
    "U_{\\text{Heis3}}(t) &= \\exp\\left[-i t \\left(H^{(0,1)}_{\\text{Heis2}} + H^{(1,2)}_{\\text{Heis2}} \\right)\\right] \\\\\n",
    "U_{\\text{Heis3}}(t) &\\approx \\left[\\exp\\left(\\dfrac{-it}{n}H^{(0,1)}_{\\text{Heis2}}\\right) \\exp\\left(\\dfrac{-it}{n}H^{(1,2)}_{\\text{Heis2}} \\right)\\right]^n.\n",
    "\\end{align}\n",
    "$$\n",
    "\n",
    "$n$ is the number of Trotter steps, and as $n$ increases, the approximation becomes more accurate. (Note that how a untiary is split up into subsystems for Trotterization is not necessarily unique.) "
   ]
  },
  {
   "cell_type": "code",
   "execution_count": 47,
   "id": "d03e176a",
   "metadata": {},
   "outputs": [],
   "source": [
    "## Here we introduce a general function for Heisenberg chain Trotter evolution\n",
    "## The circuit will not contain the initialisation\n",
    "\n",
    "def Heisenberg_Trotter(num_spins,trotter_steps,t):\n",
    "    \n",
    "    '''\n",
    "    Circuit implementing Trotterization of the time evolutiom operator for the XXX Heisenberg\n",
    "    model on num_spins.\n",
    "    \n",
    "    Naively, every  Trotter step requires 6*(num_spins-1) CNOTs\n",
    "    \n",
    "    Args:\n",
    "        - num_spins: int, number of qubits of the system\n",
    "        - trotter_steps: the number of trotter steps n to implement\n",
    "        - t: the simulation time we are targeting\n",
    "        \n",
    "    Returns:\n",
    "        A QuantumCircuit implementing the Trotterization of the time evolutiom operator for the XXX Heisenberg\n",
    "        model\n",
    "    '''\n",
    "    \n",
    "    # Given a target time and a number of Trotter steps, every step will evolve the \n",
    "    # circuit for a time step dt = target_time/trotter_steps\n",
    "    dt = t/trotter_steps\n",
    "\n",
    "    # Initialize quantum circuit for n_spins\n",
    "    qr = QuantumRegister(num_spins)\n",
    "    # A QuantumCircuit can also be initialised without a classical register (in this case classical bits == qubits)\n",
    "    qc = QuantumCircuit(qr) \n",
    "    \n",
    "    for _ in range(trotter_steps):\n",
    "        for i in range(0, num_spins - 1):\n",
    "            qc.rxx(2*dt,i,i+1)\n",
    "            qc.ryy(2*dt,i,i+1)\n",
    "            qc.rzz(2*dt,i,i+1)\n",
    "        \n",
    "        # To separate the different Trotter steps\n",
    "        qc.barrier()\n",
    "\n",
    "\n",
    "    return qc"
   ]
  },
  {
   "cell_type": "markdown",
   "id": "8f206174-5eec-4181-b4fc-4e2028e52058",
   "metadata": {},
   "source": [
    "### Change notebook"
   ]
  }
 ],
 "metadata": {
  "celltoolbar": "Slideshow",
  "kernelspec": {
   "display_name": "Python 3 (ipykernel)",
   "language": "python",
   "name": "python3"
  },
  "language_info": {
   "codemirror_mode": {
    "name": "ipython",
    "version": 3
   },
   "file_extension": ".py",
   "mimetype": "text/x-python",
   "name": "python",
   "nbconvert_exporter": "python",
   "pygments_lexer": "ipython3",
   "version": "3.9.18"
  }
 },
 "nbformat": 4,
 "nbformat_minor": 5
}
