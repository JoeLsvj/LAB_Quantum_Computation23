{
 "cells": [
  {
   "cell_type": "markdown",
   "metadata": {
    "id": "lTiEsmieVAf-"
   },
   "source": [
    "# Variational Quantum Time Evolution\n",
    "This notebook demonstrates how to use the Variational Quantum Time Evolution (VarQTE) algorithm for computing the time evolving state under a given Hamiltonian. Specifically, it introduces variational quantum imaginary and real time evolution based on McLachlan's variational principle, and shows how this can be leveraged using the `time_evolvers.variational` sub-module."
   ]
  },
  {
   "cell_type": "markdown",
   "metadata": {
    "id": "Zw5nQ9h0xVqF"
   },
   "source": [
    "## Introduction\n",
    "The time evolution of a quantum state $|\\Psi\\rangle$ is governed by the Schrödinger equation (here with $\\hbar \\equiv 1$)\n",
    "\n",
    "$$\n",
    "    \\frac{d}{dt} |\\Psi(t)\\rangle = -i H |\\Psi(t)\\rangle,\n",
    "$$\n",
    "\n",
    "\n",
    "or without the factor $i$ for imaginary time dynamics.\n",
    "\n",
    "In VarQTE, the time evolution of the _state_ $|\\Psi(t)\\rangle$ is replaced by the evolution of _parameters_ $\\theta(t)$ in a variational ansatz $|\\psi[\\theta(t)]$ ([Yuan et al. Quantum 3, 191](https://quantum-journal.org/papers/q-2019-10-07-191/)). Using the McLachlan variational principle, the algorithm updates the parameters by minimizing the distance between the right-hand side and left-hand side of the equation above, that is\n",
    "\n",
    "$$\n",
    "\\dot\\theta(t) = \\mathrm{argmin} \\Bigg\\| \\left(\\frac{d}{dt} + i H\\right)|\\psi[\\theta(t)]\\rangle \\Bigg\\|,\n",
    "$$\n",
    "\n",
    "with the norm $\\| |\\psi\\rangle \\| = \\sqrt{\\langle\\psi | \\psi\\rangle}$. This is equivalent to solving the following linear system of equations\n",
    "\n",
    "$$\n",
    "\\sum_{ij}F_{ij}\\dot{\\theta}_{i}=V_{j}\n",
    "$$\n",
    "\n",
    "where\n",
    "\n",
    "$$F_{ij}=\\text{Re}\\left[\\frac{\\partial\\left\\langle \\psi\\left[\\theta\\right]\\right|}{\\partial\\theta_{i}}\\frac{\\partial\\left|\\psi\\left[\\theta\\right]\\right\\rangle }{\\partial\\theta_{j}}+\\frac{\\partial\\left\\langle \\psi\\left[\\theta\\right]\\right|}{\\partial\\theta_{i}}\\left|\\psi\\left[\\theta\\right]\\right\\rangle \\left\\langle \\psi\\left[\\theta\\right]\\right|\\frac{\\partial\\left|\\psi\\left[\\theta\\right]\\right\\rangle }{\\partial\\theta_{j}}\\right]$$,\n",
    "\n",
    "and\n",
    "\n",
    "$$V_{i}=\\begin{cases}\n",
    "\\text{Im}\\left[\\frac{\\partial\\left\\langle \\psi\\left[\\theta\\right]\\right|}{\\partial\\theta_{i}}H\\left|\\psi\\left[\\theta\\right]\\right\\rangle +\\left\\langle \\psi\\left[\\theta\\right]\\right|\\frac{\\partial\\left|\\psi\\left[\\theta\\right]\\right\\rangle }{\\partial\\theta_{i}}\\left\\langle H\\right\\rangle _{\\theta}\\right] & \\text{Real time}\\\\\n",
    "-\\text{Re}\\left[\\frac{\\partial\\left\\langle \\psi\\left[\\theta\\right]\\right|}{\\partial\\theta_{i}}H\\left|\\psi\\left[\\theta\\right]\\right\\rangle \\right] & \\text{Imaginary time}\n",
    "\\end{cases}$$."
   ]
  },
  {
   "cell_type": "markdown",
   "metadata": {
    "id": "caoBgyluhQ3L"
   },
   "source": [
    "\n",
    "## Running VarQTE"
   ]
  },
  {
   "cell_type": "markdown",
   "metadata": {
    "id": "WG-18slyLnVM"
   },
   "source": [
    "In this tutorial, we will use two classes that extend `VarQTE`, `VarQITE` ([Variational Quantum Imaginary Time Evolution](https://qiskit.org/ecosystem/algorithms/stubs/qiskit_algorithms.VarQITE.html#qiskit_algorithms.VarQITE)) and `VarQRTE` ([Variational Quantum Real Time Evolution](https://qiskit.org/ecosystem/algorithms/stubs/qiskit_algorithms.VarQRTE.html)) for time evolution.\n",
    "We can use a simple Ising model on a spin chain to illustrate this. Let us consider the following Hamiltonian:\n",
    "\n",
    "$$H = -J\\sum_{i=0}^{L-2}Z_{i}Z_{i+1} - h\\sum_{i=0}^{L-1}X_i$$\n",
    "\n",
    "where $J$ stands for the interaction energy, and\n",
    "$h$ represents an external field which is orthogonal to the transverse direction. $Z_i$ and $X_i$ are the Pauli operators on the spins. Taking $L=2$, $J=0.2$,  and $h =1$, the Hamiltonian and the magnetization $\\sum_i Z_i$ can be constructed using `SparsePauliOp` as follows:"
   ]
  },
  {
   "cell_type": "code",
   "execution_count": null,
   "metadata": {
    "id": "6B0nZEDh0EqI"
   },
   "outputs": [],
   "source": [
    "from qiskit.quantum_info import SparsePauliOp\n",
    "\n",
    "hamiltonian = SparsePauliOp([\"ZZ\", \"IX\", \"XI\"], coeffs=[-0.2, -1, -1])\n",
    "\n",
    "magnetization = SparsePauliOp([\"IZ\", \"ZI\"], coeffs=[1, 1])"
   ]
  },
  {
   "cell_type": "markdown",
   "metadata": {
    "id": "Y_9Jskw4m8nF"
   },
   "source": [
    "## Imaginary Time Evolution\n",
    "\n",
    "Imaginary time evolution can be used, for example, to find the ground state or calculate the finite temperature expectation value of the system. Here, we will use the `VarQITE` class from `time_evolvers.variational` to compute a ground state energy. Firstly, we need to choose an ansatz. We can use `EfficientSU2` to easily construct an ansatz, setting the number of repetitions using `reps`."
   ]
  },
  {
   "cell_type": "markdown",
   "metadata": {
    "id": "m-tp9kdHmy55"
   },
   "source": [
    "## Real Time Evolution\n",
    "Real time evolution is a suitable task such as simulating quantum dynamics. For example, one can use `VarQRTE` to get time evolving expectation values of the magnetization.\n"
   ]
  },
  {
   "cell_type": "markdown",
   "metadata": {
    "id": "TPGhF7xfodnT"
   },
   "source": [
    "### VarQRTE\n",
    "Again, the first step is to select an ansatz."
   ]
  },
  {
   "cell_type": "code",
   "execution_count": null,
   "metadata": {
    "colab": {
     "base_uri": "https://localhost:8080/",
     "height": 191
    },
    "id": "l7hz6wSLnZx3",
    "outputId": "b23ea3f0-d19c-4def-a494-72fa0d5d40cf"
   },
   "outputs": [],
   "source": [
    "from qiskit.circuit.library import EfficientSU2\n",
    "\n",
    "ansatz = EfficientSU2(hamiltonian.num_qubits, reps=1)\n",
    "ansatz.decompose().draw(\"mpl\")"
   ]
  },
  {
   "cell_type": "markdown",
   "metadata": {
    "id": "Hil3c_xfubIw"
   },
   "source": [
    "We set all initial parameters as $\\frac{\\pi}{2}$."
   ]
  },
  {
   "cell_type": "code",
   "execution_count": null,
   "metadata": {
    "id": "thWw2mahnipB"
   },
   "outputs": [],
   "source": [
    "import numpy as np\n",
    "\n",
    "init_param_values = {}\n",
    "\n",
    "for i in range(len(ansatz.parameters)):\n",
    "    init_param_values[ansatz.parameters[i]] = (\n",
    "        np.pi / 2\n",
    "    )  # initialize the parameters which also decide the initial state"
   ]
  },
  {
   "cell_type": "markdown",
   "metadata": {
    "id": "i18irpxD4ETl"
   },
   "source": [
    "We also define an initial state:"
   ]
  },
  {
   "cell_type": "code",
   "execution_count": null,
   "metadata": {
    "colab": {
     "base_uri": "https://localhost:8080/"
    },
    "id": "4AsVk0Gj3-KQ",
    "outputId": "60460d22-a873-4c1c-a034-a5b62c305526"
   },
   "outputs": [],
   "source": [
    "from qiskit.quantum_info import Statevector\n",
    "\n",
    "init_state = Statevector(ansatz.assign_parameters(init_param_values))\n",
    "print(init_state)"
   ]
  },
  {
   "cell_type": "markdown",
   "metadata": {
    "id": "-ee7tApy4lsp"
   },
   "source": [
    "In order to use the real time McLachlan principle, we instantiate the `RealMcLachlanPrinciple` class."
   ]
  },
  {
   "cell_type": "code",
   "execution_count": null,
   "metadata": {
    "id": "U8ytm_9g4kkx"
   },
   "outputs": [],
   "source": [
    "from qiskit_algorithms.time_evolvers.variational import RealMcLachlanPrinciple\n",
    "\n",
    "var_principle = RealMcLachlanPrinciple()"
   ]
  },
  {
   "cell_type": "markdown",
   "metadata": {
    "id": "qknpQG8LFRdX"
   },
   "source": [
    "We also set the target time as $t=10$, and set the auxiliary operator to be the magnetization operator. The following steps are similar to `VarQITE`.\n"
   ]
  },
  {
   "cell_type": "code",
   "execution_count": null,
   "metadata": {
    "id": "Yh7vyZr62ubD"
   },
   "outputs": [],
   "source": [
    "aux_ops = [magnetization]"
   ]
  },
  {
   "cell_type": "code",
   "execution_count": null,
   "metadata": {
    "id": "-o2B3533nqsU"
   },
   "outputs": [],
   "source": [
    "from qiskit_algorithms import VarQRTE\n",
    "from qiskit_algorithms import TimeEvolutionProblem\n",
    "from qiskit_algorithms import VarQITE\n",
    "from qiskit.primitives import Estimator\n",
    "\n",
    "time = 10.0\n",
    "evolution_problem = TimeEvolutionProblem(hamiltonian, time, aux_operators=aux_ops)\n",
    "var_qrte = VarQRTE(ansatz, init_param_values, var_principle, Estimator())\n",
    "evolution_result_re = var_qrte.evolve(evolution_problem)"
   ]
  },
  {
   "cell_type": "markdown",
   "metadata": {
    "id": "ByiDyBuia1fN"
   },
   "source": [
    "We can also obtain the exact solution with `SciPyRealEvolver`. We first create the corresponding initial state for the exact classical method."
   ]
  },
  {
   "cell_type": "code",
   "execution_count": null,
   "metadata": {
    "id": "yDWL-Zd5oQwH"
   },
   "outputs": [],
   "source": [
    "init_circ = ansatz.assign_parameters(init_param_values)"
   ]
  },
  {
   "cell_type": "markdown",
   "metadata": {
    "id": "SimuqpjpbHuU"
   },
   "source": [
    "`SciPyRealEvolver` can help us get the classical exact result."
   ]
  },
  {
   "cell_type": "code",
   "execution_count": null,
   "metadata": {
    "id": "ac4twWUqonXm"
   },
   "outputs": [],
   "source": [
    "from qiskit_algorithms import SciPyRealEvolver\n",
    "\n",
    "evolution_problem = TimeEvolutionProblem(\n",
    "    hamiltonian, time, initial_state=init_circ, aux_operators=aux_ops\n",
    ")\n",
    "rtev = SciPyRealEvolver(1001)\n",
    "sol = rtev.evolve(evolution_problem)"
   ]
  },
  {
   "cell_type": "markdown",
   "metadata": {
    "id": "M2hl_f2Y67tu"
   },
   "source": [
    "We can compare the results, where $m_z$ represents the magnetization."
   ]
  },
  {
   "cell_type": "code",
   "execution_count": null,
   "metadata": {
    "colab": {
     "base_uri": "https://localhost:8080/",
     "height": 449
    },
    "id": "02oeqzHDotYT",
    "outputId": "2b95d596-f9be-43cc-f1f0-18c1f13dc47d"
   },
   "outputs": [],
   "source": [
    "import pylab\n",
    "\n",
    "mz_exp_val_re = np.array([ele[0][0] for ele in evolution_result_re.observables])\n",
    "exact_mz_exp_val_re = sol.observables[0][0].real\n",
    "times = evolution_result_re.times\n",
    "pylab.plot(times, mz_exp_val_re, label=\"VarQRTE\")\n",
    "pylab.plot(times, exact_mz_exp_val_re, label=\"Exact\", linestyle=\"--\")\n",
    "pylab.xlabel(\"Time\")\n",
    "pylab.ylabel(r\"$\\langle m_z \\rangle$\")\n",
    "pylab.legend(loc=\"upper right\");"
   ]
  },
  {
   "cell_type": "markdown",
   "metadata": {
    "id": "korN4ZZv8j_8"
   },
   "source": [
    "### Efficient classical Way to run VarQRTE\n",
    "\n",
    "You can use classically efficient gradient calculations to speed up the time evolution simulation by setting `qpt` as `ReverseQGT()` and `gradient` as `ReverseEstimatorGradient()`.\n"
   ]
  },
  {
   "cell_type": "code",
   "execution_count": null,
   "metadata": {
    "id": "gnBS19NQ85cn"
   },
   "outputs": [],
   "source": [
    "from qiskit_algorithms.gradients import DerivativeType\n",
    "from qiskit_algorithms.gradients import ReverseEstimatorGradient, ReverseQGT\n",
    "\n",
    "var_principle = RealMcLachlanPrinciple(\n",
    "    qgt=ReverseQGT(), gradient=ReverseEstimatorGradient(derivative_type=DerivativeType.IMAG)\n",
    ")\n",
    "time = 10.0\n",
    "evolution_problem = TimeEvolutionProblem(hamiltonian, time, aux_operators=aux_ops)\n",
    "var_qrte = VarQRTE(ansatz, init_param_values, var_principle, Estimator())\n",
    "evolution_result_re_eff = var_qrte.evolve(evolution_problem)"
   ]
  },
  {
   "cell_type": "code",
   "execution_count": null,
   "metadata": {
    "colab": {
     "base_uri": "https://localhost:8080/",
     "height": 449
    },
    "id": "IriOFWu89iTX",
    "outputId": "1160c308-3d08-490f-a595-325433794117",
    "tags": [
     "nbsphinx-thumbnail"
    ]
   },
   "outputs": [],
   "source": [
    "mz_exp_val_re_eff = np.array([ele[0][0] for ele in evolution_result_re_eff.observables])\n",
    "pylab.plot(times, mz_exp_val_re_eff, label=r\"VarQRTE$_{eff}$\")\n",
    "pylab.plot(times, exact_mz_exp_val_re, label=\"Exact\", linestyle=\"--\")\n",
    "pylab.xlabel(\"Time\")\n",
    "pylab.ylabel(r\"$\\langle m_z \\rangle$\")\n",
    "pylab.legend(loc=\"upper right\");"
   ]
  },
  {
   "cell_type": "markdown",
   "metadata": {
    "id": "-IHBehQVAfZm"
   },
   "source": [
    "Again, the accuracies of `VarQRTE` with both gradient methods are very similar, while the `ReverseEstimatorGradient()` shows a speedup of about $21\\%$ in this execution."
   ]
  },
  {
   "cell_type": "code",
   "execution_count": null,
   "metadata": {
    "colab": {
     "base_uri": "https://localhost:8080/",
     "height": 449
    },
    "id": "ESuUu7jILMQn",
    "outputId": "e3f76d34-ef66-47d8-f4a4-9f20713ba8e7"
   },
   "outputs": [],
   "source": [
    "pylab.plot(times, (mz_exp_val_re - exact_mz_exp_val_re), label=\"VarQRTE\")\n",
    "pylab.plot(\n",
    "    times, (mz_exp_val_re_eff - exact_mz_exp_val_re), label=r\"VarQRTE$_{eff}$\", linestyle=\"--\"\n",
    ")\n",
    "pylab.xlabel(\"Time\")\n",
    "pylab.ylabel(r\"$\\Delta \\langle m_z \\rangle$\")\n",
    "pylab.legend(loc=\"upper right\");"
   ]
  },
  {
   "cell_type": "code",
   "execution_count": null,
   "metadata": {
    "colab": {
     "base_uri": "https://localhost:8080/",
     "height": 555
    },
    "id": "tFR-8_hIvuwz",
    "outputId": "d9c1cc74-52e6-47be-e57c-26e032104636"
   },
   "outputs": [],
   "source": [
    "import qiskit.tools.jupyter\n",
    "\n",
    "%qiskit_version_table\n",
    "%qiskit_copyright"
   ]
  }
 ],
 "metadata": {
  "celltoolbar": "Edit Metadata",
  "colab": {
   "provenance": []
  },
  "kernelspec": {
   "display_name": "Python 3 (ipykernel)",
   "language": "python",
   "name": "python3"
  },
  "language_info": {
   "codemirror_mode": {
    "name": "ipython",
    "version": 3
   },
   "file_extension": ".py",
   "mimetype": "text/x-python",
   "name": "python",
   "nbconvert_exporter": "python",
   "pygments_lexer": "ipython3",
   "version": "3.9.18"
  }
 },
 "nbformat": 4,
 "nbformat_minor": 4
}
